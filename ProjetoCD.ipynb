{
  "nbformat": 4,
  "nbformat_minor": 0,
  "metadata": {
    "colab": {
      "name": "ProjetoCD.ipynb",
      "provenance": [],
      "include_colab_link": true
    },
    "kernelspec": {
      "name": "python3",
      "display_name": "Python 3"
    }
  },
  "cells": [
    {
      "cell_type": "markdown",
      "metadata": {
        "id": "view-in-github",
        "colab_type": "text"
      },
      "source": [
        "<a href=\"https://colab.research.google.com/github/VictorMarques94/IntCD/blob/master/ProjetoCD.ipynb\" target=\"_parent\"><img src=\"https://colab.research.google.com/assets/colab-badge.svg\" alt=\"Open In Colab\"/></a>"
      ]
    },
    {
      "cell_type": "code",
      "metadata": {
        "id": "WQLa9dm40DzU",
        "colab_type": "code",
        "colab": {}
      },
      "source": [
        ""
      ],
      "execution_count": 0,
      "outputs": []
    },
    {
      "cell_type": "markdown",
      "metadata": {
        "id": "9pC_ERrQqdaR",
        "colab_type": "text"
      },
      "source": [
        "#**Projeto: Eleições 2018, análise do resultado das eleições para Governador de Pernambuco, por município e Região de Desenvolvimento.**\n",
        "\n",
        "\n",
        "Em meio a polarização política no Brasil, nunca se discutiu tanto o uso dos dados, das mais variadas fontes, em campanhas eleitorais.\n",
        "Nesse contexto, considero importante, a análise de dados de eleições passadas com o objetivo de indentificar correlações e possíveis padrões. \n",
        "\n",
        "# Aluno: Victor Marques Alves\n",
        "Disciplina: Introdução à Análise de Dados\n",
        "\n",
        "Professsor: Luciano Barbosa\n",
        "\n",
        "Fonte: Banco pessoal. Informações retiradas do repositório do TRE"
      ]
    },
    {
      "cell_type": "code",
      "metadata": {
        "id": "midWgt11qmmn",
        "colab_type": "code",
        "colab": {}
      },
      "source": [
        ""
      ],
      "execution_count": 0,
      "outputs": []
    },
    {
      "cell_type": "markdown",
      "metadata": {
        "id": "_ADYOZ8q2_y3",
        "colab_type": "text"
      },
      "source": [
        "# Carregando a Base de Dados"
      ]
    },
    {
      "cell_type": "code",
      "metadata": {
        "id": "1ZEAks3M3H5A",
        "colab_type": "code",
        "colab": {}
      },
      "source": [
        "#Importando as Bibliotecas\n",
        "import pandas as pd\n",
        "import numpy as np\n"
      ],
      "execution_count": 0,
      "outputs": []
    },
    {
      "cell_type": "code",
      "metadata": {
        "id": "WArNkJlZ3v4q",
        "colab_type": "code",
        "colab": {}
      },
      "source": [
        "#Importando a nossa base de trabalho\n",
        "base=pd.read_csv(\"https://raw.githubusercontent.com/VictorMarques94/IntCD/master/1%20PERNAMBUCO.csv\",encoding = \"ISO-8859-1\")"
      ],
      "execution_count": 0,
      "outputs": []
    },
    {
      "cell_type": "code",
      "metadata": {
        "id": "Jfcl7Kx47WX2",
        "colab_type": "code",
        "colab": {
          "base_uri": "https://localhost:8080/",
          "height": 34
        },
        "outputId": "50cacd5d-c8b6-4ba5-dd06-9659b188e6a9"
      },
      "source": [
        "#Detalhe da Base\n",
        "base.shape"
      ],
      "execution_count": 139,
      "outputs": [
        {
          "output_type": "execute_result",
          "data": {
            "text/plain": [
              "(185, 1)"
            ]
          },
          "metadata": {
            "tags": []
          },
          "execution_count": 139
        }
      ]
    },
    {
      "cell_type": "code",
      "metadata": {
        "id": "xFggPBh48O_7",
        "colab_type": "code",
        "colab": {}
      },
      "source": [
        "#Separando as Colunas por Ponto e Virgula\n",
        "base=pd.read_csv(\"https://raw.githubusercontent.com/VictorMarques94/IntCD/master/1%20PERNAMBUCO.csv\",encoding = \"ISO-8859-1\",sep=\";\")"
      ],
      "execution_count": 0,
      "outputs": []
    },
    {
      "cell_type": "code",
      "metadata": {
        "id": "Xm1mEB739QNS",
        "colab_type": "code",
        "colab": {
          "base_uri": "https://localhost:8080/",
          "height": 34
        },
        "outputId": "bba9b62d-0b1c-4ed6-b8a0-8338d0771fae"
      },
      "source": [
        "#Detalhe da base após alteração\n",
        "base.shape"
      ],
      "execution_count": 141,
      "outputs": [
        {
          "output_type": "execute_result",
          "data": {
            "text/plain": [
              "(185, 7)"
            ]
          },
          "metadata": {
            "tags": []
          },
          "execution_count": 141
        }
      ]
    },
    {
      "cell_type": "code",
      "metadata": {
        "id": "Ov5Lywq7GHz7",
        "colab_type": "code",
        "colab": {
          "base_uri": "https://localhost:8080/",
          "height": 221
        },
        "outputId": "120853d4-7080-48c0-ffb2-2b213bc34dcf"
      },
      "source": [
        "#Informações da Base\n",
        "base.info()"
      ],
      "execution_count": 142,
      "outputs": [
        {
          "output_type": "stream",
          "text": [
            "<class 'pandas.core.frame.DataFrame'>\n",
            "RangeIndex: 185 entries, 0 to 184\n",
            "Data columns (total 7 columns):\n",
            "RD               185 non-null object\n",
            "MUNICIPIO        185 non-null object\n",
            "ELEITORES        185 non-null int64\n",
            "Votos validos    185 non-null int64\n",
            "PC               185 non-null int64\n",
            "AM               185 non-null int64\n",
            "OUTROS           185 non-null int64\n",
            "dtypes: int64(5), object(2)\n",
            "memory usage: 10.2+ KB\n"
          ],
          "name": "stdout"
        }
      ]
    },
    {
      "cell_type": "code",
      "metadata": {
        "id": "_ZpzyYsYBFRV",
        "colab_type": "code",
        "colab": {
          "base_uri": "https://localhost:8080/",
          "height": 204
        },
        "outputId": "8abe342c-bc64-4727-f409-a9e31cff4127"
      },
      "source": [
        "#Visual das primeiras linhas\n",
        "base.head()"
      ],
      "execution_count": 143,
      "outputs": [
        {
          "output_type": "execute_result",
          "data": {
            "text/html": [
              "<div>\n",
              "<style scoped>\n",
              "    .dataframe tbody tr th:only-of-type {\n",
              "        vertical-align: middle;\n",
              "    }\n",
              "\n",
              "    .dataframe tbody tr th {\n",
              "        vertical-align: top;\n",
              "    }\n",
              "\n",
              "    .dataframe thead th {\n",
              "        text-align: right;\n",
              "    }\n",
              "</style>\n",
              "<table border=\"1\" class=\"dataframe\">\n",
              "  <thead>\n",
              "    <tr style=\"text-align: right;\">\n",
              "      <th></th>\n",
              "      <th>RD</th>\n",
              "      <th>MUNICIPIO</th>\n",
              "      <th>ELEITORES</th>\n",
              "      <th>Votos validos</th>\n",
              "      <th>PC</th>\n",
              "      <th>AM</th>\n",
              "      <th>OUTROS</th>\n",
              "    </tr>\n",
              "  </thead>\n",
              "  <tbody>\n",
              "    <tr>\n",
              "      <th>0</th>\n",
              "      <td>AGRESTE CENTRAL</td>\n",
              "      <td>AGRESTINA</td>\n",
              "      <td>18041</td>\n",
              "      <td>10355</td>\n",
              "      <td>3896</td>\n",
              "      <td>5858</td>\n",
              "      <td>601</td>\n",
              "    </tr>\n",
              "    <tr>\n",
              "      <th>1</th>\n",
              "      <td>AGRESTE CENTRAL</td>\n",
              "      <td>ALAGOINHA</td>\n",
              "      <td>12129</td>\n",
              "      <td>6298</td>\n",
              "      <td>4421</td>\n",
              "      <td>1428</td>\n",
              "      <td>449</td>\n",
              "    </tr>\n",
              "    <tr>\n",
              "      <th>2</th>\n",
              "      <td>AGRESTE CENTRAL</td>\n",
              "      <td>ALTINHO</td>\n",
              "      <td>16016</td>\n",
              "      <td>8155</td>\n",
              "      <td>4610</td>\n",
              "      <td>3097</td>\n",
              "      <td>448</td>\n",
              "    </tr>\n",
              "    <tr>\n",
              "      <th>3</th>\n",
              "      <td>AGRESTE CENTRAL</td>\n",
              "      <td>BARRA DE GUABIRABA</td>\n",
              "      <td>8950</td>\n",
              "      <td>5870</td>\n",
              "      <td>3932</td>\n",
              "      <td>1670</td>\n",
              "      <td>268</td>\n",
              "    </tr>\n",
              "    <tr>\n",
              "      <th>4</th>\n",
              "      <td>AGRESTE CENTRAL</td>\n",
              "      <td>BELO JARDIM</td>\n",
              "      <td>60167</td>\n",
              "      <td>26954</td>\n",
              "      <td>8584</td>\n",
              "      <td>15993</td>\n",
              "      <td>2377</td>\n",
              "    </tr>\n",
              "  </tbody>\n",
              "</table>\n",
              "</div>"
            ],
            "text/plain": [
              "                RD           MUNICIPIO  ELEITORES  ...    PC     AM  OUTROS\n",
              "0  AGRESTE CENTRAL           AGRESTINA      18041  ...  3896   5858     601\n",
              "1  AGRESTE CENTRAL           ALAGOINHA      12129  ...  4421   1428     449\n",
              "2  AGRESTE CENTRAL             ALTINHO      16016  ...  4610   3097     448\n",
              "3  AGRESTE CENTRAL  BARRA DE GUABIRABA       8950  ...  3932   1670     268\n",
              "4  AGRESTE CENTRAL         BELO JARDIM      60167  ...  8584  15993    2377\n",
              "\n",
              "[5 rows x 7 columns]"
            ]
          },
          "metadata": {
            "tags": []
          },
          "execution_count": 143
        }
      ]
    },
    {
      "cell_type": "code",
      "metadata": {
        "id": "_V5vaihECuBN",
        "colab_type": "code",
        "colab": {
          "base_uri": "https://localhost:8080/",
          "height": 204
        },
        "outputId": "1a20c6ce-3e29-4e59-eb2b-ca957987140f"
      },
      "source": [
        "#Visual das Últimas Linhas\n",
        "base.tail()"
      ],
      "execution_count": 144,
      "outputs": [
        {
          "output_type": "execute_result",
          "data": {
            "text/html": [
              "<div>\n",
              "<style scoped>\n",
              "    .dataframe tbody tr th:only-of-type {\n",
              "        vertical-align: middle;\n",
              "    }\n",
              "\n",
              "    .dataframe tbody tr th {\n",
              "        vertical-align: top;\n",
              "    }\n",
              "\n",
              "    .dataframe thead th {\n",
              "        text-align: right;\n",
              "    }\n",
              "</style>\n",
              "<table border=\"1\" class=\"dataframe\">\n",
              "  <thead>\n",
              "    <tr style=\"text-align: right;\">\n",
              "      <th></th>\n",
              "      <th>RD</th>\n",
              "      <th>MUNICIPIO</th>\n",
              "      <th>ELEITORES</th>\n",
              "      <th>Votos validos</th>\n",
              "      <th>PC</th>\n",
              "      <th>AM</th>\n",
              "      <th>OUTROS</th>\n",
              "    </tr>\n",
              "  </thead>\n",
              "  <tbody>\n",
              "    <tr>\n",
              "      <th>180</th>\n",
              "      <td>SERTÌO DO SÌO FRANCISCO</td>\n",
              "      <td>DORMENTES</td>\n",
              "      <td>15509</td>\n",
              "      <td>8722</td>\n",
              "      <td>4013</td>\n",
              "      <td>3349</td>\n",
              "      <td>1360</td>\n",
              "    </tr>\n",
              "    <tr>\n",
              "      <th>181</th>\n",
              "      <td>SERTÌO DO SÌO FRANCISCO</td>\n",
              "      <td>LAGOA GRANDE</td>\n",
              "      <td>19174</td>\n",
              "      <td>11041</td>\n",
              "      <td>7505</td>\n",
              "      <td>2261</td>\n",
              "      <td>1275</td>\n",
              "    </tr>\n",
              "    <tr>\n",
              "      <th>182</th>\n",
              "      <td>SERTÌO DO SÌO FRANCISCO</td>\n",
              "      <td>OROCî</td>\n",
              "      <td>11903</td>\n",
              "      <td>6829</td>\n",
              "      <td>3800</td>\n",
              "      <td>2141</td>\n",
              "      <td>888</td>\n",
              "    </tr>\n",
              "    <tr>\n",
              "      <th>183</th>\n",
              "      <td>SERTÌO DO SÌO FRANCISCO</td>\n",
              "      <td>PETROLINA</td>\n",
              "      <td>198599</td>\n",
              "      <td>117693</td>\n",
              "      <td>48707</td>\n",
              "      <td>38403</td>\n",
              "      <td>30583</td>\n",
              "    </tr>\n",
              "    <tr>\n",
              "      <th>184</th>\n",
              "      <td>SERTÌO DO SÌO FRANCISCO</td>\n",
              "      <td>SANTA MARIA DA BOA VISTA</td>\n",
              "      <td>29051</td>\n",
              "      <td>17184</td>\n",
              "      <td>6592</td>\n",
              "      <td>8392</td>\n",
              "      <td>2200</td>\n",
              "    </tr>\n",
              "  </tbody>\n",
              "</table>\n",
              "</div>"
            ],
            "text/plain": [
              "                          RD                 MUNICIPIO  ...     AM  OUTROS\n",
              "180  SERTÌO DO SÌO FRANCISCO                 DORMENTES  ...   3349    1360\n",
              "181  SERTÌO DO SÌO FRANCISCO              LAGOA GRANDE  ...   2261    1275\n",
              "182  SERTÌO DO SÌO FRANCISCO                     OROCî  ...   2141     888\n",
              "183  SERTÌO DO SÌO FRANCISCO                 PETROLINA  ...  38403   30583\n",
              "184  SERTÌO DO SÌO FRANCISCO  SANTA MARIA DA BOA VISTA  ...   8392    2200\n",
              "\n",
              "[5 rows x 7 columns]"
            ]
          },
          "metadata": {
            "tags": []
          },
          "execution_count": 144
        }
      ]
    },
    {
      "cell_type": "code",
      "metadata": {
        "id": "sLf0SlhED51f",
        "colab_type": "code",
        "colab": {
          "base_uri": "https://localhost:8080/",
          "height": 153
        },
        "outputId": "4b7b07e6-14cc-4141-b2f5-80d1a126f4ab"
      },
      "source": [
        "#Verificando os Tipos de Dados \n",
        "base.dtypes"
      ],
      "execution_count": 145,
      "outputs": [
        {
          "output_type": "execute_result",
          "data": {
            "text/plain": [
              "RD               object\n",
              "MUNICIPIO        object\n",
              "ELEITORES         int64\n",
              "Votos validos     int64\n",
              "PC                int64\n",
              "AM                int64\n",
              "OUTROS            int64\n",
              "dtype: object"
            ]
          },
          "metadata": {
            "tags": []
          },
          "execution_count": 145
        }
      ]
    },
    {
      "cell_type": "code",
      "metadata": {
        "id": "sU20OAINGYS4",
        "colab_type": "code",
        "colab": {
          "base_uri": "https://localhost:8080/",
          "height": 153
        },
        "outputId": "3f174fcb-48b2-4de5-c053-11e58907bae5"
      },
      "source": [
        "#Alterando os tipos de Dados\n",
        "base.RD = base.RD.astype('category')\n",
        "base.MUNICIPIO = base.MUNICIPIO.astype('category')\n",
        "\n",
        "\n",
        "base.dtypes"
      ],
      "execution_count": 146,
      "outputs": [
        {
          "output_type": "execute_result",
          "data": {
            "text/plain": [
              "RD               category\n",
              "MUNICIPIO        category\n",
              "ELEITORES           int64\n",
              "Votos validos       int64\n",
              "PC                  int64\n",
              "AM                  int64\n",
              "OUTROS              int64\n",
              "dtype: object"
            ]
          },
          "metadata": {
            "tags": []
          },
          "execution_count": 146
        }
      ]
    },
    {
      "cell_type": "markdown",
      "metadata": {
        "id": "G9fANCO9INWs",
        "colab_type": "text"
      },
      "source": [
        "#LIMPEZA DA BASE"
      ]
    },
    {
      "cell_type": "markdown",
      "metadata": {
        "id": "I6ES1qG1IZeZ",
        "colab_type": "text"
      },
      "source": [
        "Verificação de linhas repetidas"
      ]
    },
    {
      "cell_type": "code",
      "metadata": {
        "id": "YM8b4oYfIVdR",
        "colab_type": "code",
        "colab": {
          "base_uri": "https://localhost:8080/",
          "height": 49
        },
        "outputId": "2bb188e1-b378-416f-c839-e60947daa80a"
      },
      "source": [
        "base[base.duplicated(keep=False)]\n"
      ],
      "execution_count": 147,
      "outputs": [
        {
          "output_type": "execute_result",
          "data": {
            "text/html": [
              "<div>\n",
              "<style scoped>\n",
              "    .dataframe tbody tr th:only-of-type {\n",
              "        vertical-align: middle;\n",
              "    }\n",
              "\n",
              "    .dataframe tbody tr th {\n",
              "        vertical-align: top;\n",
              "    }\n",
              "\n",
              "    .dataframe thead th {\n",
              "        text-align: right;\n",
              "    }\n",
              "</style>\n",
              "<table border=\"1\" class=\"dataframe\">\n",
              "  <thead>\n",
              "    <tr style=\"text-align: right;\">\n",
              "      <th></th>\n",
              "      <th>RD</th>\n",
              "      <th>MUNICIPIO</th>\n",
              "      <th>ELEITORES</th>\n",
              "      <th>Votos validos</th>\n",
              "      <th>PC</th>\n",
              "      <th>AM</th>\n",
              "      <th>OUTROS</th>\n",
              "    </tr>\n",
              "  </thead>\n",
              "  <tbody>\n",
              "  </tbody>\n",
              "</table>\n",
              "</div>"
            ],
            "text/plain": [
              "Empty DataFrame\n",
              "Columns: [RD, MUNICIPIO, ELEITORES, Votos validos, PC, AM, OUTROS]\n",
              "Index: []"
            ]
          },
          "metadata": {
            "tags": []
          },
          "execution_count": 147
        }
      ]
    },
    {
      "cell_type": "markdown",
      "metadata": {
        "id": "pPHj8dayI60w",
        "colab_type": "text"
      },
      "source": [
        "*Não há linhas repetidas na base*\n"
      ]
    },
    {
      "cell_type": "markdown",
      "metadata": {
        "id": "OQ6dC3xfJFUD",
        "colab_type": "text"
      },
      "source": [
        "Verificando se existem dados ausentes"
      ]
    },
    {
      "cell_type": "code",
      "metadata": {
        "id": "DoSKOaw-I9o6",
        "colab_type": "code",
        "colab": {
          "base_uri": "https://localhost:8080/",
          "height": 153
        },
        "outputId": "f53df7fd-ebe6-4a36-868e-9cf9b5f6a2a6"
      },
      "source": [
        "base.isna().sum()\n"
      ],
      "execution_count": 148,
      "outputs": [
        {
          "output_type": "execute_result",
          "data": {
            "text/plain": [
              "RD               0\n",
              "MUNICIPIO        0\n",
              "ELEITORES        0\n",
              "Votos validos    0\n",
              "PC               0\n",
              "AM               0\n",
              "OUTROS           0\n",
              "dtype: int64"
            ]
          },
          "metadata": {
            "tags": []
          },
          "execution_count": 148
        }
      ]
    },
    {
      "cell_type": "markdown",
      "metadata": {
        "id": "Ete19j1PKRNq",
        "colab_type": "text"
      },
      "source": [
        "*Não há dados ausentes*"
      ]
    },
    {
      "cell_type": "markdown",
      "metadata": {
        "id": "-A6riDaNLq3y",
        "colab_type": "text"
      },
      "source": [
        "O comparativo será realizado, considerando apenas as candidaturas de Paulo Câmara (PC) e Armando Monteiro (AM). Portanto, iremos remover as colunas referentes a Outros candidatos\n"
      ]
    },
    {
      "cell_type": "code",
      "metadata": {
        "id": "B09zdR_KKVTl",
        "colab_type": "code",
        "colab": {
          "base_uri": "https://localhost:8080/",
          "height": 204
        },
        "outputId": "d0ad0047-e145-464c-e606-fecf2f2255b5"
      },
      "source": [
        "base.drop('OUTROS', axis=1, inplace=True)\n",
        "base.head()\n"
      ],
      "execution_count": 149,
      "outputs": [
        {
          "output_type": "execute_result",
          "data": {
            "text/html": [
              "<div>\n",
              "<style scoped>\n",
              "    .dataframe tbody tr th:only-of-type {\n",
              "        vertical-align: middle;\n",
              "    }\n",
              "\n",
              "    .dataframe tbody tr th {\n",
              "        vertical-align: top;\n",
              "    }\n",
              "\n",
              "    .dataframe thead th {\n",
              "        text-align: right;\n",
              "    }\n",
              "</style>\n",
              "<table border=\"1\" class=\"dataframe\">\n",
              "  <thead>\n",
              "    <tr style=\"text-align: right;\">\n",
              "      <th></th>\n",
              "      <th>RD</th>\n",
              "      <th>MUNICIPIO</th>\n",
              "      <th>ELEITORES</th>\n",
              "      <th>Votos validos</th>\n",
              "      <th>PC</th>\n",
              "      <th>AM</th>\n",
              "    </tr>\n",
              "  </thead>\n",
              "  <tbody>\n",
              "    <tr>\n",
              "      <th>0</th>\n",
              "      <td>AGRESTE CENTRAL</td>\n",
              "      <td>AGRESTINA</td>\n",
              "      <td>18041</td>\n",
              "      <td>10355</td>\n",
              "      <td>3896</td>\n",
              "      <td>5858</td>\n",
              "    </tr>\n",
              "    <tr>\n",
              "      <th>1</th>\n",
              "      <td>AGRESTE CENTRAL</td>\n",
              "      <td>ALAGOINHA</td>\n",
              "      <td>12129</td>\n",
              "      <td>6298</td>\n",
              "      <td>4421</td>\n",
              "      <td>1428</td>\n",
              "    </tr>\n",
              "    <tr>\n",
              "      <th>2</th>\n",
              "      <td>AGRESTE CENTRAL</td>\n",
              "      <td>ALTINHO</td>\n",
              "      <td>16016</td>\n",
              "      <td>8155</td>\n",
              "      <td>4610</td>\n",
              "      <td>3097</td>\n",
              "    </tr>\n",
              "    <tr>\n",
              "      <th>3</th>\n",
              "      <td>AGRESTE CENTRAL</td>\n",
              "      <td>BARRA DE GUABIRABA</td>\n",
              "      <td>8950</td>\n",
              "      <td>5870</td>\n",
              "      <td>3932</td>\n",
              "      <td>1670</td>\n",
              "    </tr>\n",
              "    <tr>\n",
              "      <th>4</th>\n",
              "      <td>AGRESTE CENTRAL</td>\n",
              "      <td>BELO JARDIM</td>\n",
              "      <td>60167</td>\n",
              "      <td>26954</td>\n",
              "      <td>8584</td>\n",
              "      <td>15993</td>\n",
              "    </tr>\n",
              "  </tbody>\n",
              "</table>\n",
              "</div>"
            ],
            "text/plain": [
              "                RD           MUNICIPIO  ELEITORES  Votos validos    PC     AM\n",
              "0  AGRESTE CENTRAL           AGRESTINA      18041          10355  3896   5858\n",
              "1  AGRESTE CENTRAL           ALAGOINHA      12129           6298  4421   1428\n",
              "2  AGRESTE CENTRAL             ALTINHO      16016           8155  4610   3097\n",
              "3  AGRESTE CENTRAL  BARRA DE GUABIRABA       8950           5870  3932   1670\n",
              "4  AGRESTE CENTRAL         BELO JARDIM      60167          26954  8584  15993"
            ]
          },
          "metadata": {
            "tags": []
          },
          "execution_count": 149
        }
      ]
    },
    {
      "cell_type": "markdown",
      "metadata": {
        "id": "CneE5gMyYqcv",
        "colab_type": "text"
      },
      "source": [
        "#Correlação"
      ]
    },
    {
      "cell_type": "code",
      "metadata": {
        "id": "DMDswgptL6IX",
        "colab_type": "code",
        "colab": {
          "base_uri": "https://localhost:8080/",
          "height": 173
        },
        "outputId": "9c936e99-6f99-4ae3-f49e-6dbcdfbaa777"
      },
      "source": [
        "base.corr(method='spearman')"
      ],
      "execution_count": 150,
      "outputs": [
        {
          "output_type": "execute_result",
          "data": {
            "text/html": [
              "<div>\n",
              "<style scoped>\n",
              "    .dataframe tbody tr th:only-of-type {\n",
              "        vertical-align: middle;\n",
              "    }\n",
              "\n",
              "    .dataframe tbody tr th {\n",
              "        vertical-align: top;\n",
              "    }\n",
              "\n",
              "    .dataframe thead th {\n",
              "        text-align: right;\n",
              "    }\n",
              "</style>\n",
              "<table border=\"1\" class=\"dataframe\">\n",
              "  <thead>\n",
              "    <tr style=\"text-align: right;\">\n",
              "      <th></th>\n",
              "      <th>ELEITORES</th>\n",
              "      <th>Votos validos</th>\n",
              "      <th>PC</th>\n",
              "      <th>AM</th>\n",
              "    </tr>\n",
              "  </thead>\n",
              "  <tbody>\n",
              "    <tr>\n",
              "      <th>ELEITORES</th>\n",
              "      <td>1.000000</td>\n",
              "      <td>0.988076</td>\n",
              "      <td>0.911088</td>\n",
              "      <td>0.893724</td>\n",
              "    </tr>\n",
              "    <tr>\n",
              "      <th>Votos validos</th>\n",
              "      <td>0.988076</td>\n",
              "      <td>1.000000</td>\n",
              "      <td>0.927603</td>\n",
              "      <td>0.895025</td>\n",
              "    </tr>\n",
              "    <tr>\n",
              "      <th>PC</th>\n",
              "      <td>0.911088</td>\n",
              "      <td>0.927603</td>\n",
              "      <td>1.000000</td>\n",
              "      <td>0.699125</td>\n",
              "    </tr>\n",
              "    <tr>\n",
              "      <th>AM</th>\n",
              "      <td>0.893724</td>\n",
              "      <td>0.895025</td>\n",
              "      <td>0.699125</td>\n",
              "      <td>1.000000</td>\n",
              "    </tr>\n",
              "  </tbody>\n",
              "</table>\n",
              "</div>"
            ],
            "text/plain": [
              "               ELEITORES  Votos validos        PC        AM\n",
              "ELEITORES       1.000000       0.988076  0.911088  0.893724\n",
              "Votos validos   0.988076       1.000000  0.927603  0.895025\n",
              "PC              0.911088       0.927603  1.000000  0.699125\n",
              "AM              0.893724       0.895025  0.699125  1.000000"
            ]
          },
          "metadata": {
            "tags": []
          },
          "execution_count": 150
        }
      ]
    },
    {
      "cell_type": "markdown",
      "metadata": {
        "id": "fFDAA_c1Yz_B",
        "colab_type": "text"
      },
      "source": [
        "#Normalizando"
      ]
    },
    {
      "cell_type": "markdown",
      "metadata": {
        "id": "2jxFZZP0xpES",
        "colab_type": "text"
      },
      "source": [
        "As colunas PC e AM, estão distribuidas da seguinte maneira"
      ]
    },
    {
      "cell_type": "code",
      "metadata": {
        "id": "6i007IHFxxdG",
        "colab_type": "code",
        "colab": {
          "base_uri": "https://localhost:8080/",
          "height": 170
        },
        "outputId": "6a5049ad-daab-4c3b-c3ed-57505249a228"
      },
      "source": [
        "base['PC'].describe()\n"
      ],
      "execution_count": 151,
      "outputs": [
        {
          "output_type": "execute_result",
          "data": {
            "text/plain": [
              "count       185.000000\n",
              "mean      10368.751351\n",
              "std       25527.057328\n",
              "min         877.000000\n",
              "25%        3587.000000\n",
              "50%        5169.000000\n",
              "75%        8584.000000\n",
              "max      311792.000000\n",
              "Name: PC, dtype: float64"
            ]
          },
          "metadata": {
            "tags": []
          },
          "execution_count": 151
        }
      ]
    },
    {
      "cell_type": "code",
      "metadata": {
        "id": "9Oze1RtK8LTm",
        "colab_type": "code",
        "colab": {
          "base_uri": "https://localhost:8080/",
          "height": 170
        },
        "outputId": "909aa1a0-dd96-4d04-e2bf-c093801da6c9"
      },
      "source": [
        "base['AM'].describe()\n"
      ],
      "execution_count": 152,
      "outputs": [
        {
          "output_type": "execute_result",
          "data": {
            "text/plain": [
              "count       185.000000\n",
              "mean       7359.935135\n",
              "std       19667.949410\n",
              "min         328.000000\n",
              "25%        2070.000000\n",
              "50%        3314.000000\n",
              "75%        5959.000000\n",
              "max      239123.000000\n",
              "Name: AM, dtype: float64"
            ]
          },
          "metadata": {
            "tags": []
          },
          "execution_count": 152
        }
      ]
    },
    {
      "cell_type": "markdown",
      "metadata": {
        "id": "npv5BeC99GnE",
        "colab_type": "text"
      },
      "source": [
        "Normalizando por meio da técnica de padronização transformando os dados da colunas 'PC' e 'AM' e imputando os dados padronizados para duas novas colunas 'AM_1' e 'PC_1':\n",
        "\n"
      ]
    },
    {
      "cell_type": "code",
      "metadata": {
        "id": "px16jJPXD9rn",
        "colab_type": "code",
        "colab": {
          "base_uri": "https://localhost:8080/",
          "height": 170
        },
        "outputId": "2a944670-6bae-47c6-e44f-36a7c58257fd"
      },
      "source": [
        "from sklearn.preprocessing import StandardScaler, MinMaxScaler\n",
        "scaler = MinMaxScaler()\n",
        "base['PC_1'] = scaler.fit_transform(base[['PC']])\n",
        "base['PC_1'].describe()"
      ],
      "execution_count": 158,
      "outputs": [
        {
          "output_type": "execute_result",
          "data": {
            "text/plain": [
              "count    185.000000\n",
              "mean       0.030528\n",
              "std        0.082103\n",
              "min        0.000000\n",
              "25%        0.008716\n",
              "50%        0.013804\n",
              "75%        0.024788\n",
              "max        1.000000\n",
              "Name: PC_1, dtype: float64"
            ]
          },
          "metadata": {
            "tags": []
          },
          "execution_count": 158
        }
      ]
    },
    {
      "cell_type": "code",
      "metadata": {
        "id": "d7lNSbPeENvx",
        "colab_type": "code",
        "colab": {
          "base_uri": "https://localhost:8080/",
          "height": 170
        },
        "outputId": "b1f31c73-6ee7-47e8-d49f-a56cba189f6b"
      },
      "source": [
        "from sklearn.preprocessing import StandardScaler, MinMaxScaler\n",
        "scaler = MinMaxScaler()\n",
        "base['AM_1'] = scaler.fit_transform(base[['AM']])\n",
        "base['AM_1'].describe()"
      ],
      "execution_count": 159,
      "outputs": [
        {
          "output_type": "execute_result",
          "data": {
            "text/plain": [
              "count    185.000000\n",
              "mean       0.029448\n",
              "std        0.082363\n",
              "min        0.000000\n",
              "25%        0.007295\n",
              "50%        0.012504\n",
              "75%        0.023581\n",
              "max        1.000000\n",
              "Name: AM_1, dtype: float64"
            ]
          },
          "metadata": {
            "tags": []
          },
          "execution_count": 159
        }
      ]
    },
    {
      "cell_type": "markdown",
      "metadata": {
        "id": "W2MVXHUwEwD1",
        "colab_type": "text"
      },
      "source": [
        "#Discretizando"
      ]
    },
    {
      "cell_type": "code",
      "metadata": {
        "id": "hmaX31uJFZBx",
        "colab_type": "code",
        "colab": {
          "base_uri": "https://localhost:8080/",
          "height": 374
        },
        "outputId": "41c4b123-3d84-4ab2-f06d-1cc016b9891f"
      },
      "source": [
        "#Intervalos PC\n",
        "base['PC_inter'] = pd.cut(base['PC'],20)\n",
        "base['PC_inter'].value_counts()"
      ],
      "execution_count": 169,
      "outputs": [
        {
          "output_type": "execute_result",
          "data": {
            "text/plain": [
              "(566.085, 16422.75]      167\n",
              "(16422.75, 31968.5]       10\n",
              "(31968.5, 47514.25]        2\n",
              "(47514.25, 63060.0]        2\n",
              "(94151.5, 109697.25]       1\n",
              "(63060.0, 78605.75]        1\n",
              "(78605.75, 94151.5]        1\n",
              "(296246.25, 311792.0]      1\n",
              "(171880.25, 187426.0]      0\n",
              "(156334.5, 171880.25]      0\n",
              "(280700.5, 296246.25]      0\n",
              "(125243.0, 140788.75]      0\n",
              "(109697.25, 125243.0]      0\n",
              "(187426.0, 202971.75]      0\n",
              "(202971.75, 218517.5]      0\n",
              "(218517.5, 234063.25]      0\n",
              "(234063.25, 249609.0]      0\n",
              "(249609.0, 265154.75]      0\n",
              "(265154.75, 280700.5]      0\n",
              "(140788.75, 156334.5]      0\n",
              "Name: PC_inter, dtype: int64"
            ]
          },
          "metadata": {
            "tags": []
          },
          "execution_count": 169
        }
      ]
    },
    {
      "cell_type": "code",
      "metadata": {
        "id": "7OJyxV2kHEwD",
        "colab_type": "code",
        "colab": {
          "base_uri": "https://localhost:8080/",
          "height": 443
        },
        "outputId": "94d8f19e-d320-41f1-9cf3-442ec6d061bf"
      },
      "source": [
        "#Grafico dos intervalos iguais PC\n",
        "counts = base['PC_inter'].value_counts()\n",
        "counts.plot.bar(figsize=(10,5))"
      ],
      "execution_count": 170,
      "outputs": [
        {
          "output_type": "execute_result",
          "data": {
            "text/plain": [
              "<matplotlib.axes._subplots.AxesSubplot at 0x7f344f2b22b0>"
            ]
          },
          "metadata": {
            "tags": []
          },
          "execution_count": 170
        },
        {
          "output_type": "display_data",
          "data": {
            "image/png": "[encoded data removed]",
            "text/plain": [
              "<Figure size 720x360 with 1 Axes>"
            ]
          },
          "metadata": {
            "tags": []
          }
        }
      ]
    },
    {
      "cell_type": "code",
      "metadata": {
        "id": "jxzH1bxRHkeb",
        "colab_type": "code",
        "colab": {
          "base_uri": "https://localhost:8080/",
          "height": 374
        },
        "outputId": "d76c701a-6024-4c25-be4b-8ff80505972f"
      },
      "source": [
        "#Intervalos AM\n",
        "base['AM_inter'] = pd.cut(base['AM'],20)\n",
        "base['AM_inter'].value_counts()"
      ],
      "execution_count": 171,
      "outputs": [
        {
          "output_type": "execute_result",
          "data": {
            "text/plain": [
              "(89.205, 12267.75]       166\n",
              "(12267.75, 24207.5]       11\n",
              "(24207.5, 36147.25]        2\n",
              "(36147.25, 48087.0]        2\n",
              "(48087.0, 60026.75]        2\n",
              "(71966.5, 83906.25]        1\n",
              "(227183.25, 239123.0]      1\n",
              "(143605.0, 155544.75]      0\n",
              "(131665.25, 143605.0]      0\n",
              "(119725.5, 131665.25]      0\n",
              "(215243.5, 227183.25]      0\n",
              "(95846.0, 107785.75]       0\n",
              "(83906.25, 95846.0]        0\n",
              "(155544.75, 167484.5]      0\n",
              "(60026.75, 71966.5]        0\n",
              "(167484.5, 179424.25]      0\n",
              "(179424.25, 191364.0]      0\n",
              "(191364.0, 203303.75]      0\n",
              "(203303.75, 215243.5]      0\n",
              "(107785.75, 119725.5]      0\n",
              "Name: AM_inter, dtype: int64"
            ]
          },
          "metadata": {
            "tags": []
          },
          "execution_count": 171
        }
      ]
    },
    {
      "cell_type": "code",
      "metadata": {
        "id": "57b63-4EHtRc",
        "colab_type": "code",
        "colab": {
          "base_uri": "https://localhost:8080/",
          "height": 443
        },
        "outputId": "75c7b26e-2424-4aaa-ffe4-6d37d79be096"
      },
      "source": [
        "#Grafico dos intervalos iguais PC\n",
        "counts = base['AM_inter'].value_counts()\n",
        "counts.plot.bar(figsize=(10,5))"
      ],
      "execution_count": 172,
      "outputs": [
        {
          "output_type": "execute_result",
          "data": {
            "text/plain": [
              "<matplotlib.axes._subplots.AxesSubplot at 0x7f344f810f28>"
            ]
          },
          "metadata": {
            "tags": []
          },
          "execution_count": 172
        },
        {
          "output_type": "display_data",
          "data": {
            "image/png": "[encoded data removed]",
            "text/plain": [
              "<Figure size 720x360 with 1 Axes>"
            ]
          },
          "metadata": {
            "tags": []
          }
        }
      ]
    },
    {
      "cell_type": "code",
      "metadata": {
        "id": "R-v-VT36IFS6",
        "colab_type": "code",
        "colab": {
          "base_uri": "https://localhost:8080/",
          "height": 170
        },
        "outputId": "bba210fb-65ab-47a2-e9ae-3dc0d1b9d1cf"
      },
      "source": [
        "#descrevendo PC\n",
        "base['PC'].describe()"
      ],
      "execution_count": 174,
      "outputs": [
        {
          "output_type": "execute_result",
          "data": {
            "text/plain": [
              "count       185.000000\n",
              "mean      10368.751351\n",
              "std       25527.057328\n",
              "min         877.000000\n",
              "25%        3587.000000\n",
              "50%        5169.000000\n",
              "75%        8584.000000\n",
              "max      311792.000000\n",
              "Name: PC, dtype: float64"
            ]
          },
          "metadata": {
            "tags": []
          },
          "execution_count": 174
        }
      ]
    },
    {
      "cell_type": "code",
      "metadata": {
        "id": "MMUAeg40ILWq",
        "colab_type": "code",
        "colab": {
          "base_uri": "https://localhost:8080/",
          "height": 170
        },
        "outputId": "06724839-e0c4-4ac5-a8cb-3b4ad832d0a0"
      },
      "source": [
        "#Discretizando PC\n",
        "base['PC_inter_1'] = pd.qcut(base['PC'],8)\n",
        "base['PC_inter_1'].value_counts()"
      ],
      "execution_count": 177,
      "outputs": [
        {
          "output_type": "execute_result",
          "data": {
            "text/plain": [
              "(876.999, 2796.0]      24\n",
              "(13816.0, 311792.0]    23\n",
              "(8584.0, 13816.0]      23\n",
              "(6592.0, 8584.0]       23\n",
              "(5169.0, 6592.0]       23\n",
              "(4347.0, 5169.0]       23\n",
              "(3587.0, 4347.0]       23\n",
              "(2796.0, 3587.0]       23\n",
              "Name: PC_inter_1, dtype: int64"
            ]
          },
          "metadata": {
            "tags": []
          },
          "execution_count": 177
        }
      ]
    },
    {
      "cell_type": "code",
      "metadata": {
        "id": "l8L4hNvQImhF",
        "colab_type": "code",
        "colab": {
          "base_uri": "https://localhost:8080/",
          "height": 431
        },
        "outputId": "3c3e15bd-be97-418c-c51e-830acc3e578e"
      },
      "source": [
        "#Grafico de PC discretizado\n",
        "counts = base['PC_inter_1'].value_counts()\n",
        "counts.plot.bar(figsize=(10,5))"
      ],
      "execution_count": 178,
      "outputs": [
        {
          "output_type": "execute_result",
          "data": {
            "text/plain": [
              "<matplotlib.axes._subplots.AxesSubplot at 0x7f344f15d9e8>"
            ]
          },
          "metadata": {
            "tags": []
          },
          "execution_count": 178
        },
        {
          "output_type": "display_data",
          "data": {
            "image/png": "[encoded data removed]",
            "text/plain": [
              "<Figure size 720x360 with 1 Axes>"
            ]
          },
          "metadata": {
            "tags": []
          }
        }
      ]
    },
    {
      "cell_type": "code",
      "metadata": {
        "id": "ttrJ0-fBI43L",
        "colab_type": "code",
        "colab": {
          "base_uri": "https://localhost:8080/",
          "height": 170
        },
        "outputId": "6b62be0e-6914-47b6-b6db-f94ed2b5ae0e"
      },
      "source": [
        "#descrevendo AM\n",
        "base['AM'].describe()"
      ],
      "execution_count": 179,
      "outputs": [
        {
          "output_type": "execute_result",
          "data": {
            "text/plain": [
              "count       185.000000\n",
              "mean       7359.935135\n",
              "std       19667.949410\n",
              "min         328.000000\n",
              "25%        2070.000000\n",
              "50%        3314.000000\n",
              "75%        5959.000000\n",
              "max      239123.000000\n",
              "Name: AM, dtype: float64"
            ]
          },
          "metadata": {
            "tags": []
          },
          "execution_count": 179
        }
      ]
    },
    {
      "cell_type": "code",
      "metadata": {
        "id": "y_77kv-UI8nn",
        "colab_type": "code",
        "colab": {
          "base_uri": "https://localhost:8080/",
          "height": 170
        },
        "outputId": "eb9cf678-408f-4e39-844d-2c3d0f3941ee"
      },
      "source": [
        "#Discretizando AM\n",
        "base['AM_inter_1'] = pd.qcut(base['AM'],8)\n",
        "base['AM_inter_1'].value_counts()"
      ],
      "execution_count": 180,
      "outputs": [
        {
          "output_type": "execute_result",
          "data": {
            "text/plain": [
              "(327.999, 1362.0]     24\n",
              "(9858.0, 239123.0]    23\n",
              "(5959.0, 9858.0]      23\n",
              "(4324.0, 5959.0]      23\n",
              "(3314.0, 4324.0]      23\n",
              "(2593.0, 3314.0]      23\n",
              "(2070.0, 2593.0]      23\n",
              "(1362.0, 2070.0]      23\n",
              "Name: AM_inter_1, dtype: int64"
            ]
          },
          "metadata": {
            "tags": []
          },
          "execution_count": 180
        }
      ]
    },
    {
      "cell_type": "code",
      "metadata": {
        "id": "XoZzyA5DJIL1",
        "colab_type": "code",
        "colab": {
          "base_uri": "https://localhost:8080/",
          "height": 425
        },
        "outputId": "e5001999-4179-4810-b0e7-6734210957b1"
      },
      "source": [
        "#Grafico de AM discretizado\n",
        "counts = base['AM_inter_1'].value_counts()\n",
        "counts.plot.bar(figsize=(10,5))"
      ],
      "execution_count": 181,
      "outputs": [
        {
          "output_type": "execute_result",
          "data": {
            "text/plain": [
              "<matplotlib.axes._subplots.AxesSubplot at 0x7f344f0b9048>"
            ]
          },
          "metadata": {
            "tags": []
          },
          "execution_count": 181
        },
        {
          "output_type": "display_data",
          "data": {
            "image/png": "[encoded data removed]",
            "text/plain": [
              "<Figure size 720x360 with 1 Axes>"
            ]
          },
          "metadata": {
            "tags": []
          }
        }
      ]
    }
  ]
}