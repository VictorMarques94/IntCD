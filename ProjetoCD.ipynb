{
  "nbformat": 4,
  "nbformat_minor": 0,
  "metadata": {
    "colab": {
      "name": "ProjetoCD.ipynb",
      "provenance": [],
      "include_colab_link": true
    },
    "kernelspec": {
      "name": "python3",
      "display_name": "Python 3"
    }
  },
  "cells": [
    {
      "cell_type": "markdown",
      "metadata": {
        "id": "view-in-github",
        "colab_type": "text"
      },
      "source": [
        "<a href=\"https://colab.research.google.com/github/VictorMarques94/IntCD/blob/master/ProjetoCD.ipynb\" target=\"_parent\"><img src=\"https://colab.research.google.com/assets/colab-badge.svg\" alt=\"Open In Colab\"/></a>"
      ]
    },
    {
      "cell_type": "code",
      "metadata": {
        "id": "WQLa9dm40DzU",
        "colab_type": "code",
        "colab": {}
      },
      "source": [
        ""
      ],
      "execution_count": 0,
      "outputs": []
    },
    {
      "cell_type": "markdown",
      "metadata": {
        "id": "9pC_ERrQqdaR",
        "colab_type": "text"
      },
      "source": [
        "#**Projeto: Eleições 2018, análise do resultado das eleições para Governador de Pernambuco, por município e Região de Desenvolvimento.**\n",
        "\n",
        "\n",
        "Em meio a polarização política no Brasil, nunca se discutiu tanto o uso dos dados, das mais variadas fontes, em campanhas eleitorais.\n",
        "Nesse contexto, considero importante, a análise de dados de eleições passadas com o objetivo de indentificar correlações e possíveis padrões. \n",
        "\n",
        "# Aluno: Victor Marques Alves\n",
        "Disciplina: Introdução à Análise de Dados\n",
        "\n",
        "Professsor: Luciano Barbosa\n",
        "\n",
        "Fonte: Banco pessoal. Informações retiradas do repositório do TRE"
      ]
    },
    {
      "cell_type": "code",
      "metadata": {
        "id": "midWgt11qmmn",
        "colab_type": "code",
        "colab": {}
      },
      "source": [
        ""
      ],
      "execution_count": 0,
      "outputs": []
    }
  ]
}