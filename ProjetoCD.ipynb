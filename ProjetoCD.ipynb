{
  "nbformat": 4,
  "nbformat_minor": 0,
  "metadata": {
    "colab": {
      "name": "ProjetoCD.ipynb",
      "provenance": [],
      "include_colab_link": true
    },
    "kernelspec": {
      "name": "python3",
      "display_name": "Python 3"
    }
  },
  "cells": [
    {
      "cell_type": "markdown",
      "metadata": {
        "id": "view-in-github",
        "colab_type": "text"
      },
      "source": [
        "<a href=\"https://colab.research.google.com/github/VictorMarques94/IntCD/blob/master/ProjetoCD.ipynb\" target=\"_parent\"><img src=\"https://colab.research.google.com/assets/colab-badge.svg\" alt=\"Open In Colab\"/></a>"
      ]
    },
    {
      "cell_type": "code",
      "metadata": {
        "id": "WQLa9dm40DzU",
        "colab_type": "code",
        "colab": {}
      },
      "source": [
        ""
      ],
      "execution_count": 0,
      "outputs": []
    },
    {
      "cell_type": "markdown",
      "metadata": {
        "id": "9pC_ERrQqdaR",
        "colab_type": "text"
      },
      "source": [
        "#**Projeto: Eleições 2018, análise do resultado das eleições para Governador de Pernambuco, por município e Região de Desenvolvimento.**\n",
        "\n",
        "\n",
        "Em meio a polarização política no Brasil, nunca se discutiu tanto o uso dos dados, das mais variadas fontes, em campanhas eleitorais.\n",
        "Nesse contexto, considero importante, a análise de dados das elições para Governador de Pernambuco em 2018. \n",
        "\n",
        "# Aluno: Victor Marques Alves\n",
        "Disciplina: Introdução à Análise de Dados\n",
        "\n",
        "Professsor: Luciano Barbosa\n",
        "\n",
        "Fonte: Banco pessoal. Informações retiradas do repositório do TRE"
      ]
    },
    {
      "cell_type": "code",
      "metadata": {
        "id": "midWgt11qmmn",
        "colab_type": "code",
        "colab": {}
      },
      "source": [
        ""
      ],
      "execution_count": 0,
      "outputs": []
    },
    {
      "cell_type": "markdown",
      "metadata": {
        "id": "_ADYOZ8q2_y3",
        "colab_type": "text"
      },
      "source": [
        "# Carregando a Base de Dados"
      ]
    },
    {
      "cell_type": "code",
      "metadata": {
        "id": "1ZEAks3M3H5A",
        "colab_type": "code",
        "colab": {}
      },
      "source": [
        "#Importando as Bibliotecas\n",
        "import pandas as pd\n",
        "import numpy as np\n"
      ],
      "execution_count": 0,
      "outputs": []
    },
    {
      "cell_type": "code",
      "metadata": {
        "id": "WArNkJlZ3v4q",
        "colab_type": "code",
        "colab": {}
      },
      "source": [
        "#Importando a nossa base de trabalho\n",
        "base=pd.read_csv(\"https://raw.githubusercontent.com/VictorMarques94/IntCD/master/1%20PERNAMBUCO.csv\",encoding = \"ISO-8859-1\")"
      ],
      "execution_count": 0,
      "outputs": []
    },
    {
      "cell_type": "code",
      "metadata": {
        "id": "Jfcl7Kx47WX2",
        "colab_type": "code",
        "colab": {
          "base_uri": "https://localhost:8080/",
          "height": 34
        },
        "outputId": "fb1d12b5-030b-46ba-ac42-7ca7b4510bc6"
      },
      "source": [
        "#Detalhe da Base\n",
        "base.shape"
      ],
      "execution_count": 189,
      "outputs": [
        {
          "output_type": "execute_result",
          "data": {
            "text/plain": [
              "(185, 1)"
            ]
          },
          "metadata": {
            "tags": []
          },
          "execution_count": 189
        }
      ]
    },
    {
      "cell_type": "code",
      "metadata": {
        "id": "xFggPBh48O_7",
        "colab_type": "code",
        "colab": {}
      },
      "source": [
        "#Separando as Colunas por Ponto e Virgula\n",
        "base=pd.read_csv(\"https://raw.githubusercontent.com/VictorMarques94/IntCD/master/1%20PERNAMBUCO.csv\",encoding = \"ISO-8859-1\",sep=\";\")"
      ],
      "execution_count": 0,
      "outputs": []
    },
    {
      "cell_type": "code",
      "metadata": {
        "id": "Xm1mEB739QNS",
        "colab_type": "code",
        "colab": {
          "base_uri": "https://localhost:8080/",
          "height": 34
        },
        "outputId": "13db3c55-aa45-429a-82a3-d07245ba0fd6"
      },
      "source": [
        "#Detalhe da base após alteração\n",
        "base.shape"
      ],
      "execution_count": 191,
      "outputs": [
        {
          "output_type": "execute_result",
          "data": {
            "text/plain": [
              "(185, 7)"
            ]
          },
          "metadata": {
            "tags": []
          },
          "execution_count": 191
        }
      ]
    },
    {
      "cell_type": "code",
      "metadata": {
        "id": "Ov5Lywq7GHz7",
        "colab_type": "code",
        "colab": {
          "base_uri": "https://localhost:8080/",
          "height": 221
        },
        "outputId": "d507a6a3-2272-46a1-cc3a-b93d5bc4d583"
      },
      "source": [
        "#Informações da Base\n",
        "base.info()"
      ],
      "execution_count": 192,
      "outputs": [
        {
          "output_type": "stream",
          "text": [
            "<class 'pandas.core.frame.DataFrame'>\n",
            "RangeIndex: 185 entries, 0 to 184\n",
            "Data columns (total 7 columns):\n",
            "RD           185 non-null object\n",
            "MUNICIPIO    185 non-null object\n",
            "ELEITORES    185 non-null int64\n",
            "VOTOS        185 non-null int64\n",
            "PC           185 non-null int64\n",
            "AM           185 non-null int64\n",
            "OUTROS       185 non-null int64\n",
            "dtypes: int64(5), object(2)\n",
            "memory usage: 10.2+ KB\n"
          ],
          "name": "stdout"
        }
      ]
    },
    {
      "cell_type": "code",
      "metadata": {
        "id": "_ZpzyYsYBFRV",
        "colab_type": "code",
        "colab": {
          "base_uri": "https://localhost:8080/",
          "height": 204
        },
        "outputId": "87c445d1-274e-43e8-fcf3-02cfd5ace2c9"
      },
      "source": [
        "#Visual das primeiras linhas\n",
        "base.head()"
      ],
      "execution_count": 193,
      "outputs": [
        {
          "output_type": "execute_result",
          "data": {
            "text/html": [
              "<div>\n",
              "<style scoped>\n",
              "    .dataframe tbody tr th:only-of-type {\n",
              "        vertical-align: middle;\n",
              "    }\n",
              "\n",
              "    .dataframe tbody tr th {\n",
              "        vertical-align: top;\n",
              "    }\n",
              "\n",
              "    .dataframe thead th {\n",
              "        text-align: right;\n",
              "    }\n",
              "</style>\n",
              "<table border=\"1\" class=\"dataframe\">\n",
              "  <thead>\n",
              "    <tr style=\"text-align: right;\">\n",
              "      <th></th>\n",
              "      <th>RD</th>\n",
              "      <th>MUNICIPIO</th>\n",
              "      <th>ELEITORES</th>\n",
              "      <th>VOTOS</th>\n",
              "      <th>PC</th>\n",
              "      <th>AM</th>\n",
              "      <th>OUTROS</th>\n",
              "    </tr>\n",
              "  </thead>\n",
              "  <tbody>\n",
              "    <tr>\n",
              "      <th>0</th>\n",
              "      <td>METROPOLITANA</td>\n",
              "      <td>RECIFE</td>\n",
              "      <td>1155816</td>\n",
              "      <td>718245</td>\n",
              "      <td>311792</td>\n",
              "      <td>239123</td>\n",
              "      <td>167330</td>\n",
              "    </tr>\n",
              "    <tr>\n",
              "      <th>1</th>\n",
              "      <td>METROPOLITANA</td>\n",
              "      <td>JABOATÌO DOS GUARARAPES</td>\n",
              "      <td>452277</td>\n",
              "      <td>231682</td>\n",
              "      <td>107669</td>\n",
              "      <td>82928</td>\n",
              "      <td>41085</td>\n",
              "    </tr>\n",
              "    <tr>\n",
              "      <th>2</th>\n",
              "      <td>METROPOLITANA</td>\n",
              "      <td>OLINDA</td>\n",
              "      <td>276081</td>\n",
              "      <td>169700</td>\n",
              "      <td>81276</td>\n",
              "      <td>50904</td>\n",
              "      <td>37520</td>\n",
              "    </tr>\n",
              "    <tr>\n",
              "      <th>3</th>\n",
              "      <td>METROPOLITANA</td>\n",
              "      <td>PAULISTA</td>\n",
              "      <td>208363</td>\n",
              "      <td>129039</td>\n",
              "      <td>63229</td>\n",
              "      <td>40762</td>\n",
              "      <td>25048</td>\n",
              "    </tr>\n",
              "    <tr>\n",
              "      <th>4</th>\n",
              "      <td>AGRESTE CENTRAL</td>\n",
              "      <td>CARUARU</td>\n",
              "      <td>216900</td>\n",
              "      <td>123843</td>\n",
              "      <td>50996</td>\n",
              "      <td>57523</td>\n",
              "      <td>15324</td>\n",
              "    </tr>\n",
              "  </tbody>\n",
              "</table>\n",
              "</div>"
            ],
            "text/plain": [
              "                RD                MUNICIPIO  ELEITORES  ...      PC      AM  OUTROS\n",
              "0    METROPOLITANA                   RECIFE    1155816  ...  311792  239123  167330\n",
              "1    METROPOLITANA  JABOATÌO DOS GUARARAPES     452277  ...  107669   82928   41085\n",
              "2    METROPOLITANA                   OLINDA     276081  ...   81276   50904   37520\n",
              "3    METROPOLITANA                 PAULISTA     208363  ...   63229   40762   25048\n",
              "4  AGRESTE CENTRAL                  CARUARU     216900  ...   50996   57523   15324\n",
              "\n",
              "[5 rows x 7 columns]"
            ]
          },
          "metadata": {
            "tags": []
          },
          "execution_count": 193
        }
      ]
    },
    {
      "cell_type": "code",
      "metadata": {
        "id": "_V5vaihECuBN",
        "colab_type": "code",
        "colab": {
          "base_uri": "https://localhost:8080/",
          "height": 204
        },
        "outputId": "be31e1b1-89f6-4fa7-d189-8f1bb81be846"
      },
      "source": [
        "#Visual das Últimas Linhas\n",
        "base.tail()"
      ],
      "execution_count": 194,
      "outputs": [
        {
          "output_type": "execute_result",
          "data": {
            "text/html": [
              "<div>\n",
              "<style scoped>\n",
              "    .dataframe tbody tr th:only-of-type {\n",
              "        vertical-align: middle;\n",
              "    }\n",
              "\n",
              "    .dataframe tbody tr th {\n",
              "        vertical-align: top;\n",
              "    }\n",
              "\n",
              "    .dataframe thead th {\n",
              "        text-align: right;\n",
              "    }\n",
              "</style>\n",
              "<table border=\"1\" class=\"dataframe\">\n",
              "  <thead>\n",
              "    <tr style=\"text-align: right;\">\n",
              "      <th></th>\n",
              "      <th>RD</th>\n",
              "      <th>MUNICIPIO</th>\n",
              "      <th>ELEITORES</th>\n",
              "      <th>VOTOS</th>\n",
              "      <th>PC</th>\n",
              "      <th>AM</th>\n",
              "      <th>OUTROS</th>\n",
              "    </tr>\n",
              "  </thead>\n",
              "  <tbody>\n",
              "    <tr>\n",
              "      <th>180</th>\n",
              "      <td>SERTÌO DE ITAPARICA</td>\n",
              "      <td>ITACURUBA</td>\n",
              "      <td>3895</td>\n",
              "      <td>2572</td>\n",
              "      <td>1806</td>\n",
              "      <td>624</td>\n",
              "      <td>142</td>\n",
              "    </tr>\n",
              "    <tr>\n",
              "      <th>181</th>\n",
              "      <td>AGRESTE MERIDIONAL</td>\n",
              "      <td>CALADO</td>\n",
              "      <td>6401</td>\n",
              "      <td>3907</td>\n",
              "      <td>1789</td>\n",
              "      <td>1909</td>\n",
              "      <td>209</td>\n",
              "    </tr>\n",
              "    <tr>\n",
              "      <th>182</th>\n",
              "      <td>SERTÌO DO PAJEò</td>\n",
              "      <td>INGAZEIRA</td>\n",
              "      <td>3765</td>\n",
              "      <td>2536</td>\n",
              "      <td>1614</td>\n",
              "      <td>896</td>\n",
              "      <td>26</td>\n",
              "    </tr>\n",
              "    <tr>\n",
              "      <th>183</th>\n",
              "      <td>AGRESTE CENTRAL</td>\n",
              "      <td>IBIRAJUBA</td>\n",
              "      <td>6422</td>\n",
              "      <td>3420</td>\n",
              "      <td>1537</td>\n",
              "      <td>1736</td>\n",
              "      <td>147</td>\n",
              "    </tr>\n",
              "    <tr>\n",
              "      <th>184</th>\n",
              "      <td>METROPOLITANA</td>\n",
              "      <td>FERNANDO DE NORONHA</td>\n",
              "      <td>2743</td>\n",
              "      <td>1450</td>\n",
              "      <td>877</td>\n",
              "      <td>420</td>\n",
              "      <td>153</td>\n",
              "    </tr>\n",
              "  </tbody>\n",
              "</table>\n",
              "</div>"
            ],
            "text/plain": [
              "                      RD            MUNICIPIO  ELEITORES  ...    PC    AM  OUTROS\n",
              "180  SERTÌO DE ITAPARICA            ITACURUBA       3895  ...  1806   624     142\n",
              "181   AGRESTE MERIDIONAL              CALADO       6401  ...  1789  1909     209\n",
              "182      SERTÌO DO PAJEò            INGAZEIRA       3765  ...  1614   896      26\n",
              "183      AGRESTE CENTRAL            IBIRAJUBA       6422  ...  1537  1736     147\n",
              "184        METROPOLITANA  FERNANDO DE NORONHA       2743  ...   877   420     153\n",
              "\n",
              "[5 rows x 7 columns]"
            ]
          },
          "metadata": {
            "tags": []
          },
          "execution_count": 194
        }
      ]
    },
    {
      "cell_type": "code",
      "metadata": {
        "id": "sLf0SlhED51f",
        "colab_type": "code",
        "colab": {
          "base_uri": "https://localhost:8080/",
          "height": 153
        },
        "outputId": "53722b2d-f2d6-4bf6-87a4-bbe29ebbd125"
      },
      "source": [
        "#Verificando os Tipos de Dados \n",
        "base.dtypes"
      ],
      "execution_count": 195,
      "outputs": [
        {
          "output_type": "execute_result",
          "data": {
            "text/plain": [
              "RD           object\n",
              "MUNICIPIO    object\n",
              "ELEITORES     int64\n",
              "VOTOS         int64\n",
              "PC            int64\n",
              "AM            int64\n",
              "OUTROS        int64\n",
              "dtype: object"
            ]
          },
          "metadata": {
            "tags": []
          },
          "execution_count": 195
        }
      ]
    },
    {
      "cell_type": "code",
      "metadata": {
        "id": "sU20OAINGYS4",
        "colab_type": "code",
        "colab": {
          "base_uri": "https://localhost:8080/",
          "height": 153
        },
        "outputId": "ae2560fb-3a64-4015-e17a-172fffade515"
      },
      "source": [
        "#Alterando os tipos de Dados\n",
        "base.RD = base.RD.astype('category')\n",
        "base.MUNICIPIO = base.MUNICIPIO.astype('category')\n",
        "\n",
        "\n",
        "base.dtypes"
      ],
      "execution_count": 196,
      "outputs": [
        {
          "output_type": "execute_result",
          "data": {
            "text/plain": [
              "RD           category\n",
              "MUNICIPIO    category\n",
              "ELEITORES       int64\n",
              "VOTOS           int64\n",
              "PC              int64\n",
              "AM              int64\n",
              "OUTROS          int64\n",
              "dtype: object"
            ]
          },
          "metadata": {
            "tags": []
          },
          "execution_count": 196
        }
      ]
    },
    {
      "cell_type": "markdown",
      "metadata": {
        "id": "G9fANCO9INWs",
        "colab_type": "text"
      },
      "source": [
        "#LIMPEZA DA BASE"
      ]
    },
    {
      "cell_type": "markdown",
      "metadata": {
        "id": "I6ES1qG1IZeZ",
        "colab_type": "text"
      },
      "source": [
        "Verificação de linhas repetidas"
      ]
    },
    {
      "cell_type": "code",
      "metadata": {
        "id": "YM8b4oYfIVdR",
        "colab_type": "code",
        "colab": {
          "base_uri": "https://localhost:8080/",
          "height": 49
        },
        "outputId": "ef02d13a-4cc7-4871-c236-750a5821f85d"
      },
      "source": [
        "base[base.duplicated(keep=False)]\n"
      ],
      "execution_count": 197,
      "outputs": [
        {
          "output_type": "execute_result",
          "data": {
            "text/html": [
              "<div>\n",
              "<style scoped>\n",
              "    .dataframe tbody tr th:only-of-type {\n",
              "        vertical-align: middle;\n",
              "    }\n",
              "\n",
              "    .dataframe tbody tr th {\n",
              "        vertical-align: top;\n",
              "    }\n",
              "\n",
              "    .dataframe thead th {\n",
              "        text-align: right;\n",
              "    }\n",
              "</style>\n",
              "<table border=\"1\" class=\"dataframe\">\n",
              "  <thead>\n",
              "    <tr style=\"text-align: right;\">\n",
              "      <th></th>\n",
              "      <th>RD</th>\n",
              "      <th>MUNICIPIO</th>\n",
              "      <th>ELEITORES</th>\n",
              "      <th>VOTOS</th>\n",
              "      <th>PC</th>\n",
              "      <th>AM</th>\n",
              "      <th>OUTROS</th>\n",
              "    </tr>\n",
              "  </thead>\n",
              "  <tbody>\n",
              "  </tbody>\n",
              "</table>\n",
              "</div>"
            ],
            "text/plain": [
              "Empty DataFrame\n",
              "Columns: [RD, MUNICIPIO, ELEITORES, VOTOS, PC, AM, OUTROS]\n",
              "Index: []"
            ]
          },
          "metadata": {
            "tags": []
          },
          "execution_count": 197
        }
      ]
    },
    {
      "cell_type": "markdown",
      "metadata": {
        "id": "pPHj8dayI60w",
        "colab_type": "text"
      },
      "source": [
        "*Não há linhas repetidas na base*\n"
      ]
    },
    {
      "cell_type": "markdown",
      "metadata": {
        "id": "OQ6dC3xfJFUD",
        "colab_type": "text"
      },
      "source": [
        "Verificando se existem dados ausentes"
      ]
    },
    {
      "cell_type": "code",
      "metadata": {
        "id": "DoSKOaw-I9o6",
        "colab_type": "code",
        "colab": {
          "base_uri": "https://localhost:8080/",
          "height": 153
        },
        "outputId": "3bd968db-c89d-4015-e263-9f5c4829a691"
      },
      "source": [
        "base.isna().sum()\n"
      ],
      "execution_count": 198,
      "outputs": [
        {
          "output_type": "execute_result",
          "data": {
            "text/plain": [
              "RD           0\n",
              "MUNICIPIO    0\n",
              "ELEITORES    0\n",
              "VOTOS        0\n",
              "PC           0\n",
              "AM           0\n",
              "OUTROS       0\n",
              "dtype: int64"
            ]
          },
          "metadata": {
            "tags": []
          },
          "execution_count": 198
        }
      ]
    },
    {
      "cell_type": "markdown",
      "metadata": {
        "id": "Ete19j1PKRNq",
        "colab_type": "text"
      },
      "source": [
        "*Não há dados ausentes*"
      ]
    },
    {
      "cell_type": "markdown",
      "metadata": {
        "id": "-A6riDaNLq3y",
        "colab_type": "text"
      },
      "source": [
        "O comparativo será realizado, considerando apenas as candidaturas de Paulo Câmara (PC) e Armando Monteiro (AM). Portanto, iremos remover as colunas referentes a Outros candidatos\n"
      ]
    },
    {
      "cell_type": "code",
      "metadata": {
        "id": "B09zdR_KKVTl",
        "colab_type": "code",
        "colab": {
          "base_uri": "https://localhost:8080/",
          "height": 204
        },
        "outputId": "df629036-4ff0-4dbb-a856-fa8a234a89a4"
      },
      "source": [
        "base.drop('OUTROS', axis=1, inplace=True)\n",
        "base.head()\n"
      ],
      "execution_count": 199,
      "outputs": [
        {
          "output_type": "execute_result",
          "data": {
            "text/html": [
              "<div>\n",
              "<style scoped>\n",
              "    .dataframe tbody tr th:only-of-type {\n",
              "        vertical-align: middle;\n",
              "    }\n",
              "\n",
              "    .dataframe tbody tr th {\n",
              "        vertical-align: top;\n",
              "    }\n",
              "\n",
              "    .dataframe thead th {\n",
              "        text-align: right;\n",
              "    }\n",
              "</style>\n",
              "<table border=\"1\" class=\"dataframe\">\n",
              "  <thead>\n",
              "    <tr style=\"text-align: right;\">\n",
              "      <th></th>\n",
              "      <th>RD</th>\n",
              "      <th>MUNICIPIO</th>\n",
              "      <th>ELEITORES</th>\n",
              "      <th>VOTOS</th>\n",
              "      <th>PC</th>\n",
              "      <th>AM</th>\n",
              "    </tr>\n",
              "  </thead>\n",
              "  <tbody>\n",
              "    <tr>\n",
              "      <th>0</th>\n",
              "      <td>METROPOLITANA</td>\n",
              "      <td>RECIFE</td>\n",
              "      <td>1155816</td>\n",
              "      <td>718245</td>\n",
              "      <td>311792</td>\n",
              "      <td>239123</td>\n",
              "    </tr>\n",
              "    <tr>\n",
              "      <th>1</th>\n",
              "      <td>METROPOLITANA</td>\n",
              "      <td>JABOATÌO DOS GUARARAPES</td>\n",
              "      <td>452277</td>\n",
              "      <td>231682</td>\n",
              "      <td>107669</td>\n",
              "      <td>82928</td>\n",
              "    </tr>\n",
              "    <tr>\n",
              "      <th>2</th>\n",
              "      <td>METROPOLITANA</td>\n",
              "      <td>OLINDA</td>\n",
              "      <td>276081</td>\n",
              "      <td>169700</td>\n",
              "      <td>81276</td>\n",
              "      <td>50904</td>\n",
              "    </tr>\n",
              "    <tr>\n",
              "      <th>3</th>\n",
              "      <td>METROPOLITANA</td>\n",
              "      <td>PAULISTA</td>\n",
              "      <td>208363</td>\n",
              "      <td>129039</td>\n",
              "      <td>63229</td>\n",
              "      <td>40762</td>\n",
              "    </tr>\n",
              "    <tr>\n",
              "      <th>4</th>\n",
              "      <td>AGRESTE CENTRAL</td>\n",
              "      <td>CARUARU</td>\n",
              "      <td>216900</td>\n",
              "      <td>123843</td>\n",
              "      <td>50996</td>\n",
              "      <td>57523</td>\n",
              "    </tr>\n",
              "  </tbody>\n",
              "</table>\n",
              "</div>"
            ],
            "text/plain": [
              "                RD                MUNICIPIO  ELEITORES   VOTOS      PC      AM\n",
              "0    METROPOLITANA                   RECIFE    1155816  718245  311792  239123\n",
              "1    METROPOLITANA  JABOATÌO DOS GUARARAPES     452277  231682  107669   82928\n",
              "2    METROPOLITANA                   OLINDA     276081  169700   81276   50904\n",
              "3    METROPOLITANA                 PAULISTA     208363  129039   63229   40762\n",
              "4  AGRESTE CENTRAL                  CARUARU     216900  123843   50996   57523"
            ]
          },
          "metadata": {
            "tags": []
          },
          "execution_count": 199
        }
      ]
    },
    {
      "cell_type": "markdown",
      "metadata": {
        "id": "CneE5gMyYqcv",
        "colab_type": "text"
      },
      "source": [
        "#Correlação"
      ]
    },
    {
      "cell_type": "code",
      "metadata": {
        "id": "DMDswgptL6IX",
        "colab_type": "code",
        "colab": {
          "base_uri": "https://localhost:8080/",
          "height": 173
        },
        "outputId": "9acf1cea-db2a-401c-8db4-e84834ca192e"
      },
      "source": [
        "base.corr(method='spearman')"
      ],
      "execution_count": 200,
      "outputs": [
        {
          "output_type": "execute_result",
          "data": {
            "text/html": [
              "<div>\n",
              "<style scoped>\n",
              "    .dataframe tbody tr th:only-of-type {\n",
              "        vertical-align: middle;\n",
              "    }\n",
              "\n",
              "    .dataframe tbody tr th {\n",
              "        vertical-align: top;\n",
              "    }\n",
              "\n",
              "    .dataframe thead th {\n",
              "        text-align: right;\n",
              "    }\n",
              "</style>\n",
              "<table border=\"1\" class=\"dataframe\">\n",
              "  <thead>\n",
              "    <tr style=\"text-align: right;\">\n",
              "      <th></th>\n",
              "      <th>ELEITORES</th>\n",
              "      <th>VOTOS</th>\n",
              "      <th>PC</th>\n",
              "      <th>AM</th>\n",
              "    </tr>\n",
              "  </thead>\n",
              "  <tbody>\n",
              "    <tr>\n",
              "      <th>ELEITORES</th>\n",
              "      <td>1.000000</td>\n",
              "      <td>0.988076</td>\n",
              "      <td>0.911088</td>\n",
              "      <td>0.893724</td>\n",
              "    </tr>\n",
              "    <tr>\n",
              "      <th>VOTOS</th>\n",
              "      <td>0.988076</td>\n",
              "      <td>1.000000</td>\n",
              "      <td>0.927603</td>\n",
              "      <td>0.895025</td>\n",
              "    </tr>\n",
              "    <tr>\n",
              "      <th>PC</th>\n",
              "      <td>0.911088</td>\n",
              "      <td>0.927603</td>\n",
              "      <td>1.000000</td>\n",
              "      <td>0.699125</td>\n",
              "    </tr>\n",
              "    <tr>\n",
              "      <th>AM</th>\n",
              "      <td>0.893724</td>\n",
              "      <td>0.895025</td>\n",
              "      <td>0.699125</td>\n",
              "      <td>1.000000</td>\n",
              "    </tr>\n",
              "  </tbody>\n",
              "</table>\n",
              "</div>"
            ],
            "text/plain": [
              "           ELEITORES     VOTOS        PC        AM\n",
              "ELEITORES   1.000000  0.988076  0.911088  0.893724\n",
              "VOTOS       0.988076  1.000000  0.927603  0.895025\n",
              "PC          0.911088  0.927603  1.000000  0.699125\n",
              "AM          0.893724  0.895025  0.699125  1.000000"
            ]
          },
          "metadata": {
            "tags": []
          },
          "execution_count": 200
        }
      ]
    },
    {
      "cell_type": "markdown",
      "metadata": {
        "id": "fFDAA_c1Yz_B",
        "colab_type": "text"
      },
      "source": [
        "#Normalizando"
      ]
    },
    {
      "cell_type": "markdown",
      "metadata": {
        "id": "2jxFZZP0xpES",
        "colab_type": "text"
      },
      "source": [
        "As colunas PC e AM, estão distribuidas da seguinte maneira"
      ]
    },
    {
      "cell_type": "code",
      "metadata": {
        "id": "6i007IHFxxdG",
        "colab_type": "code",
        "colab": {
          "base_uri": "https://localhost:8080/",
          "height": 170
        },
        "outputId": "9aad9203-e08f-48a8-b099-b140e5351f3f"
      },
      "source": [
        "base['PC'].describe()\n"
      ],
      "execution_count": 201,
      "outputs": [
        {
          "output_type": "execute_result",
          "data": {
            "text/plain": [
              "count       185.000000\n",
              "mean      10368.751351\n",
              "std       25527.057328\n",
              "min         877.000000\n",
              "25%        3587.000000\n",
              "50%        5169.000000\n",
              "75%        8584.000000\n",
              "max      311792.000000\n",
              "Name: PC, dtype: float64"
            ]
          },
          "metadata": {
            "tags": []
          },
          "execution_count": 201
        }
      ]
    },
    {
      "cell_type": "code",
      "metadata": {
        "id": "9Oze1RtK8LTm",
        "colab_type": "code",
        "colab": {
          "base_uri": "https://localhost:8080/",
          "height": 170
        },
        "outputId": "c7281f42-f9d8-4a27-e4f8-60bf91fd078f"
      },
      "source": [
        "base['AM'].describe()\n"
      ],
      "execution_count": 202,
      "outputs": [
        {
          "output_type": "execute_result",
          "data": {
            "text/plain": [
              "count       185.000000\n",
              "mean       7359.935135\n",
              "std       19667.949410\n",
              "min         328.000000\n",
              "25%        2070.000000\n",
              "50%        3314.000000\n",
              "75%        5959.000000\n",
              "max      239123.000000\n",
              "Name: AM, dtype: float64"
            ]
          },
          "metadata": {
            "tags": []
          },
          "execution_count": 202
        }
      ]
    },
    {
      "cell_type": "code",
      "metadata": {
        "id": "EblX6GETNvjv",
        "colab_type": "code",
        "colab": {
          "base_uri": "https://localhost:8080/",
          "height": 170
        },
        "outputId": "3acd9734-92b4-457a-c84a-0fbca5008a12"
      },
      "source": [
        "base['VOTOS'].describe()\n"
      ],
      "execution_count": 204,
      "outputs": [
        {
          "output_type": "execute_result",
          "data": {
            "text/plain": [
              "count       185.000000\n",
              "mean      20449.540541\n",
              "std       58071.512019\n",
              "min        1450.000000\n",
              "25%        6261.000000\n",
              "50%        9251.000000\n",
              "75%       15176.000000\n",
              "max      718245.000000\n",
              "Name: VOTOS, dtype: float64"
            ]
          },
          "metadata": {
            "tags": []
          },
          "execution_count": 204
        }
      ]
    },
    {
      "cell_type": "markdown",
      "metadata": {
        "id": "npv5BeC99GnE",
        "colab_type": "text"
      },
      "source": [
        "Normalizando por meio da técnica de padronização transformando os dados da colunas 'PC' e 'AM' e imputando os dados padronizados para duas novas colunas 'AM_1', 'PC_1' E VOTOS:\n",
        "\n"
      ]
    },
    {
      "cell_type": "code",
      "metadata": {
        "id": "px16jJPXD9rn",
        "colab_type": "code",
        "colab": {
          "base_uri": "https://localhost:8080/",
          "height": 170
        },
        "outputId": "7a4ecb8a-bfa1-43e7-ac6f-d7f413a590b8"
      },
      "source": [
        "from sklearn.preprocessing import StandardScaler, MinMaxScaler\n",
        "scaler = MinMaxScaler()\n",
        "base['PC_1'] = scaler.fit_transform(base[['PC']])\n",
        "base['PC_1'].describe()"
      ],
      "execution_count": 203,
      "outputs": [
        {
          "output_type": "execute_result",
          "data": {
            "text/plain": [
              "count    185.000000\n",
              "mean       0.030528\n",
              "std        0.082103\n",
              "min        0.000000\n",
              "25%        0.008716\n",
              "50%        0.013804\n",
              "75%        0.024788\n",
              "max        1.000000\n",
              "Name: PC_1, dtype: float64"
            ]
          },
          "metadata": {
            "tags": []
          },
          "execution_count": 203
        }
      ]
    },
    {
      "cell_type": "code",
      "metadata": {
        "id": "d7lNSbPeENvx",
        "colab_type": "code",
        "colab": {
          "base_uri": "https://localhost:8080/",
          "height": 170
        },
        "outputId": "b1f31c73-6ee7-47e8-d49f-a56cba189f6b"
      },
      "source": [
        "from sklearn.preprocessing import StandardScaler, MinMaxScaler\n",
        "scaler = MinMaxScaler()\n",
        "base['AM_1'] = scaler.fit_transform(base[['AM']])\n",
        "base['AM_1'].describe()"
      ],
      "execution_count": 159,
      "outputs": [
        {
          "output_type": "execute_result",
          "data": {
            "text/plain": [
              "count    185.000000\n",
              "mean       0.029448\n",
              "std        0.082363\n",
              "min        0.000000\n",
              "25%        0.007295\n",
              "50%        0.012504\n",
              "75%        0.023581\n",
              "max        1.000000\n",
              "Name: AM_1, dtype: float64"
            ]
          },
          "metadata": {
            "tags": []
          },
          "execution_count": 159
        }
      ]
    },
    {
      "cell_type": "code",
      "metadata": {
        "id": "wqo6bouVN6Pi",
        "colab_type": "code",
        "colab": {
          "base_uri": "https://localhost:8080/",
          "height": 170
        },
        "outputId": "05cad863-a022-4472-eb23-cc20ea3c357a"
      },
      "source": [
        "from sklearn.preprocessing import StandardScaler, MinMaxScaler\n",
        "scaler = MinMaxScaler()\n",
        "base['VOTOS_1'] = scaler.fit_transform(base[['VOTOS']])\n",
        "base['VOTOS_1'].describe()"
      ],
      "execution_count": 205,
      "outputs": [
        {
          "output_type": "execute_result",
          "data": {
            "text/plain": [
              "count    185.000000\n",
              "mean       0.026506\n",
              "std        0.081016\n",
              "min        0.000000\n",
              "25%        0.006712\n",
              "50%        0.010883\n",
              "75%        0.019149\n",
              "max        1.000000\n",
              "Name: VOTOS_1, dtype: float64"
            ]
          },
          "metadata": {
            "tags": []
          },
          "execution_count": 205
        }
      ]
    },
    {
      "cell_type": "markdown",
      "metadata": {
        "id": "W2MVXHUwEwD1",
        "colab_type": "text"
      },
      "source": [
        "#Discretizando"
      ]
    },
    {
      "cell_type": "code",
      "metadata": {
        "id": "hmaX31uJFZBx",
        "colab_type": "code",
        "colab": {
          "base_uri": "https://localhost:8080/",
          "height": 374
        },
        "outputId": "41c4b123-3d84-4ab2-f06d-1cc016b9891f"
      },
      "source": [
        "#Intervalos PC\n",
        "base['PC_inter'] = pd.cut(base['PC'],20)\n",
        "base['PC_inter'].value_counts()"
      ],
      "execution_count": 169,
      "outputs": [
        {
          "output_type": "execute_result",
          "data": {
            "text/plain": [
              "(566.085, 16422.75]      167\n",
              "(16422.75, 31968.5]       10\n",
              "(31968.5, 47514.25]        2\n",
              "(47514.25, 63060.0]        2\n",
              "(94151.5, 109697.25]       1\n",
              "(63060.0, 78605.75]        1\n",
              "(78605.75, 94151.5]        1\n",
              "(296246.25, 311792.0]      1\n",
              "(171880.25, 187426.0]      0\n",
              "(156334.5, 171880.25]      0\n",
              "(280700.5, 296246.25]      0\n",
              "(125243.0, 140788.75]      0\n",
              "(109697.25, 125243.0]      0\n",
              "(187426.0, 202971.75]      0\n",
              "(202971.75, 218517.5]      0\n",
              "(218517.5, 234063.25]      0\n",
              "(234063.25, 249609.0]      0\n",
              "(249609.0, 265154.75]      0\n",
              "(265154.75, 280700.5]      0\n",
              "(140788.75, 156334.5]      0\n",
              "Name: PC_inter, dtype: int64"
            ]
          },
          "metadata": {
            "tags": []
          },
          "execution_count": 169
        }
      ]
    },
    {
      "cell_type": "code",
      "metadata": {
        "id": "7OJyxV2kHEwD",
        "colab_type": "code",
        "colab": {
          "base_uri": "https://localhost:8080/",
          "height": 443
        },
        "outputId": "94d8f19e-d320-41f1-9cf3-442ec6d061bf"
      },
      "source": [
        "#Grafico dos intervalos iguais PC\n",
        "counts = base['PC_inter'].value_counts()\n",
        "counts.plot.bar(figsize=(10,5))"
      ],
      "execution_count": 170,
      "outputs": [
        {
          "output_type": "execute_result",
          "data": {
            "text/plain": [
              "<matplotlib.axes._subplots.AxesSubplot at 0x7f344f2b22b0>"
            ]
          },
          "metadata": {
            "tags": []
          },
          "execution_count": 170
        },
        {
          "output_type": "display_data",
          "data": {
            "image/png": "[encoded data removed]",
            "text/plain": [
              "<Figure size 720x360 with 1 Axes>"
            ]
          },
          "metadata": {
            "tags": []
          }
        }
      ]
    },
    {
      "cell_type": "code",
      "metadata": {
        "id": "jxzH1bxRHkeb",
        "colab_type": "code",
        "colab": {
          "base_uri": "https://localhost:8080/",
          "height": 374
        },
        "outputId": "d76c701a-6024-4c25-be4b-8ff80505972f"
      },
      "source": [
        "#Intervalos AM\n",
        "base['AM_inter'] = pd.cut(base['AM'],20)\n",
        "base['AM_inter'].value_counts()"
      ],
      "execution_count": 171,
      "outputs": [
        {
          "output_type": "execute_result",
          "data": {
            "text/plain": [
              "(89.205, 12267.75]       166\n",
              "(12267.75, 24207.5]       11\n",
              "(24207.5, 36147.25]        2\n",
              "(36147.25, 48087.0]        2\n",
              "(48087.0, 60026.75]        2\n",
              "(71966.5, 83906.25]        1\n",
              "(227183.25, 239123.0]      1\n",
              "(143605.0, 155544.75]      0\n",
              "(131665.25, 143605.0]      0\n",
              "(119725.5, 131665.25]      0\n",
              "(215243.5, 227183.25]      0\n",
              "(95846.0, 107785.75]       0\n",
              "(83906.25, 95846.0]        0\n",
              "(155544.75, 167484.5]      0\n",
              "(60026.75, 71966.5]        0\n",
              "(167484.5, 179424.25]      0\n",
              "(179424.25, 191364.0]      0\n",
              "(191364.0, 203303.75]      0\n",
              "(203303.75, 215243.5]      0\n",
              "(107785.75, 119725.5]      0\n",
              "Name: AM_inter, dtype: int64"
            ]
          },
          "metadata": {
            "tags": []
          },
          "execution_count": 171
        }
      ]
    },
    {
      "cell_type": "code",
      "metadata": {
        "id": "57b63-4EHtRc",
        "colab_type": "code",
        "colab": {
          "base_uri": "https://localhost:8080/",
          "height": 443
        },
        "outputId": "75c7b26e-2424-4aaa-ffe4-6d37d79be096"
      },
      "source": [
        "#Grafico dos intervalos iguais AM\n",
        "counts = base['AM_inter'].value_counts()\n",
        "counts.plot.bar(figsize=(10,5))"
      ],
      "execution_count": 172,
      "outputs": [
        {
          "output_type": "execute_result",
          "data": {
            "text/plain": [
              "<matplotlib.axes._subplots.AxesSubplot at 0x7f344f810f28>"
            ]
          },
          "metadata": {
            "tags": []
          },
          "execution_count": 172
        },
        {
          "output_type": "display_data",
          "data": {
            "image/png": "[encoded data removed]",
            "text/plain": [
              "<Figure size 720x360 with 1 Axes>"
            ]
          },
          "metadata": {
            "tags": []
          }
        }
      ]
    },
    {
      "cell_type": "code",
      "metadata": {
        "id": "W2LXRP4aONQI",
        "colab_type": "code",
        "colab": {
          "base_uri": "https://localhost:8080/",
          "height": 374
        },
        "outputId": "6f841271-9e6a-4782-99b2-7cd624efdf05"
      },
      "source": [
        "#Intervalos VOTOS\n",
        "base['VOTOS_inter'] = pd.cut(base['VOTOS'],20)\n",
        "base['VOTOS_inter'].value_counts()"
      ],
      "execution_count": 206,
      "outputs": [
        {
          "output_type": "execute_result",
          "data": {
            "text/plain": [
              "(733.205, 37289.75]      171\n",
              "(37289.75, 73129.5]        7\n",
              "(108969.25, 144809.0]      3\n",
              "(216488.5, 252328.25]      1\n",
              "(73129.5, 108969.25]       1\n",
              "(144809.0, 180648.75]      1\n",
              "(682405.25, 718245.0]      1\n",
              "(431527.0, 467366.75]      0\n",
              "(395687.25, 431527.0]      0\n",
              "(359847.5, 395687.25]      0\n",
              "(646565.5, 682405.25]      0\n",
              "(288168.0, 324007.75]      0\n",
              "(252328.25, 288168.0]      0\n",
              "(467366.75, 503206.5]      0\n",
              "(180648.75, 216488.5]      0\n",
              "(503206.5, 539046.25]      0\n",
              "(539046.25, 574886.0]      0\n",
              "(574886.0, 610725.75]      0\n",
              "(610725.75, 646565.5]      0\n",
              "(324007.75, 359847.5]      0\n",
              "Name: VOTOS_inter, dtype: int64"
            ]
          },
          "metadata": {
            "tags": []
          },
          "execution_count": 206
        }
      ]
    },
    {
      "cell_type": "code",
      "metadata": {
        "id": "9PTPxQB0ONhj",
        "colab_type": "code",
        "colab": {
          "base_uri": "https://localhost:8080/",
          "height": 443
        },
        "outputId": "cd44103a-bfda-4f2c-bda2-f969fa320d21"
      },
      "source": [
        "#Grafico dos intervalos iguais VOTOS\n",
        "counts = base['VOTOS_inter'].value_counts()\n",
        "counts.plot.bar(figsize=(10,5))"
      ],
      "execution_count": 207,
      "outputs": [
        {
          "output_type": "execute_result",
          "data": {
            "text/plain": [
              "<matplotlib.axes._subplots.AxesSubplot at 0x7f344c7a9908>"
            ]
          },
          "metadata": {
            "tags": []
          },
          "execution_count": 207
        },
        {
          "output_type": "display_data",
          "data": {
            "image/png": "[encoded data removed]",
            "text/plain": [
              "<Figure size 720x360 with 1 Axes>"
            ]
          },
          "metadata": {
            "tags": []
          }
        }
      ]
    },
    {
      "cell_type": "code",
      "metadata": {
        "id": "R-v-VT36IFS6",
        "colab_type": "code",
        "colab": {
          "base_uri": "https://localhost:8080/",
          "height": 170
        },
        "outputId": "bba210fb-65ab-47a2-e9ae-3dc0d1b9d1cf"
      },
      "source": [
        "#descrevendo PC\n",
        "base['PC'].describe()"
      ],
      "execution_count": 174,
      "outputs": [
        {
          "output_type": "execute_result",
          "data": {
            "text/plain": [
              "count       185.000000\n",
              "mean      10368.751351\n",
              "std       25527.057328\n",
              "min         877.000000\n",
              "25%        3587.000000\n",
              "50%        5169.000000\n",
              "75%        8584.000000\n",
              "max      311792.000000\n",
              "Name: PC, dtype: float64"
            ]
          },
          "metadata": {
            "tags": []
          },
          "execution_count": 174
        }
      ]
    },
    {
      "cell_type": "code",
      "metadata": {
        "id": "MMUAeg40ILWq",
        "colab_type": "code",
        "colab": {
          "base_uri": "https://localhost:8080/",
          "height": 170
        },
        "outputId": "06724839-e0c4-4ac5-a8cb-3b4ad832d0a0"
      },
      "source": [
        "#Discretizando PC\n",
        "base['PC_inter_1'] = pd.qcut(base['PC'],8)\n",
        "base['PC_inter_1'].value_counts()"
      ],
      "execution_count": 177,
      "outputs": [
        {
          "output_type": "execute_result",
          "data": {
            "text/plain": [
              "(876.999, 2796.0]      24\n",
              "(13816.0, 311792.0]    23\n",
              "(8584.0, 13816.0]      23\n",
              "(6592.0, 8584.0]       23\n",
              "(5169.0, 6592.0]       23\n",
              "(4347.0, 5169.0]       23\n",
              "(3587.0, 4347.0]       23\n",
              "(2796.0, 3587.0]       23\n",
              "Name: PC_inter_1, dtype: int64"
            ]
          },
          "metadata": {
            "tags": []
          },
          "execution_count": 177
        }
      ]
    },
    {
      "cell_type": "code",
      "metadata": {
        "id": "l8L4hNvQImhF",
        "colab_type": "code",
        "colab": {
          "base_uri": "https://localhost:8080/",
          "height": 431
        },
        "outputId": "3c3e15bd-be97-418c-c51e-830acc3e578e"
      },
      "source": [
        "#Grafico de PC discretizado\n",
        "counts = base['PC_inter_1'].value_counts()\n",
        "counts.plot.bar(figsize=(10,5))"
      ],
      "execution_count": 178,
      "outputs": [
        {
          "output_type": "execute_result",
          "data": {
            "text/plain": [
              "<matplotlib.axes._subplots.AxesSubplot at 0x7f344f15d9e8>"
            ]
          },
          "metadata": {
            "tags": []
          },
          "execution_count": 178
        },
        {
          "output_type": "display_data",
          "data": {
            "image/png": "[encoded data removed]",
            "text/plain": [
              "<Figure size 720x360 with 1 Axes>"
            ]
          },
          "metadata": {
            "tags": []
          }
        }
      ]
    },
    {
      "cell_type": "code",
      "metadata": {
        "id": "ttrJ0-fBI43L",
        "colab_type": "code",
        "colab": {
          "base_uri": "https://localhost:8080/",
          "height": 170
        },
        "outputId": "6b62be0e-6914-47b6-b6db-f94ed2b5ae0e"
      },
      "source": [
        "#descrevendo AM\n",
        "base['AM'].describe()"
      ],
      "execution_count": 179,
      "outputs": [
        {
          "output_type": "execute_result",
          "data": {
            "text/plain": [
              "count       185.000000\n",
              "mean       7359.935135\n",
              "std       19667.949410\n",
              "min         328.000000\n",
              "25%        2070.000000\n",
              "50%        3314.000000\n",
              "75%        5959.000000\n",
              "max      239123.000000\n",
              "Name: AM, dtype: float64"
            ]
          },
          "metadata": {
            "tags": []
          },
          "execution_count": 179
        }
      ]
    },
    {
      "cell_type": "code",
      "metadata": {
        "id": "y_77kv-UI8nn",
        "colab_type": "code",
        "colab": {
          "base_uri": "https://localhost:8080/",
          "height": 170
        },
        "outputId": "eb9cf678-408f-4e39-844d-2c3d0f3941ee"
      },
      "source": [
        "#Discretizando AM\n",
        "base['AM_inter_1'] = pd.qcut(base['AM'],8)\n",
        "base['AM_inter_1'].value_counts()"
      ],
      "execution_count": 180,
      "outputs": [
        {
          "output_type": "execute_result",
          "data": {
            "text/plain": [
              "(327.999, 1362.0]     24\n",
              "(9858.0, 239123.0]    23\n",
              "(5959.0, 9858.0]      23\n",
              "(4324.0, 5959.0]      23\n",
              "(3314.0, 4324.0]      23\n",
              "(2593.0, 3314.0]      23\n",
              "(2070.0, 2593.0]      23\n",
              "(1362.0, 2070.0]      23\n",
              "Name: AM_inter_1, dtype: int64"
            ]
          },
          "metadata": {
            "tags": []
          },
          "execution_count": 180
        }
      ]
    },
    {
      "cell_type": "code",
      "metadata": {
        "id": "XoZzyA5DJIL1",
        "colab_type": "code",
        "colab": {
          "base_uri": "https://localhost:8080/",
          "height": 425
        },
        "outputId": "e5001999-4179-4810-b0e7-6734210957b1"
      },
      "source": [
        "#Grafico de AM discretizado\n",
        "counts = base['AM_inter_1'].value_counts()\n",
        "counts.plot.bar(figsize=(10,5))"
      ],
      "execution_count": 181,
      "outputs": [
        {
          "output_type": "execute_result",
          "data": {
            "text/plain": [
              "<matplotlib.axes._subplots.AxesSubplot at 0x7f344f0b9048>"
            ]
          },
          "metadata": {
            "tags": []
          },
          "execution_count": 181
        },
        {
          "output_type": "display_data",
          "data": {
            "image/png": "[encoded data removed]",
            "text/plain": [
              "<Figure size 720x360 with 1 Axes>"
            ]
          },
          "metadata": {
            "tags": []
          }
        }
      ]
    },
    {
      "cell_type": "code",
      "metadata": {
        "id": "9qQyM9sXOi1b",
        "colab_type": "code",
        "colab": {
          "base_uri": "https://localhost:8080/",
          "height": 170
        },
        "outputId": "62f18e61-3bc6-4db1-aba3-517f921866fb"
      },
      "source": [
        "#descrevendo VOTOS\n",
        "base['VOTOS'].describe()"
      ],
      "execution_count": 208,
      "outputs": [
        {
          "output_type": "execute_result",
          "data": {
            "text/plain": [
              "count       185.000000\n",
              "mean      20449.540541\n",
              "std       58071.512019\n",
              "min        1450.000000\n",
              "25%        6261.000000\n",
              "50%        9251.000000\n",
              "75%       15176.000000\n",
              "max      718245.000000\n",
              "Name: VOTOS, dtype: float64"
            ]
          },
          "metadata": {
            "tags": []
          },
          "execution_count": 208
        }
      ]
    },
    {
      "cell_type": "code",
      "metadata": {
        "id": "OqzCneLROjBK",
        "colab_type": "code",
        "colab": {
          "base_uri": "https://localhost:8080/",
          "height": 170
        },
        "outputId": "018dfc5b-da16-4212-8250-7af3bb86dbbf"
      },
      "source": [
        "#Discretizando VOTOS\n",
        "base['VOTOS_inter_1'] = pd.qcut(base['VOTOS'],8)\n",
        "base['VOTOS_inter_1'].value_counts()"
      ],
      "execution_count": 209,
      "outputs": [
        {
          "output_type": "execute_result",
          "data": {
            "text/plain": [
              "(1449.999, 4845.0]     24\n",
              "(26424.0, 718245.0]    23\n",
              "(15176.0, 26424.0]     23\n",
              "(11307.0, 15176.0]     23\n",
              "(9251.0, 11307.0]      23\n",
              "(7607.0, 9251.0]       23\n",
              "(6261.0, 7607.0]       23\n",
              "(4845.0, 6261.0]       23\n",
              "Name: VOTOS_inter_1, dtype: int64"
            ]
          },
          "metadata": {
            "tags": []
          },
          "execution_count": 209
        }
      ]
    },
    {
      "cell_type": "code",
      "metadata": {
        "id": "qa85TFhNOjNY",
        "colab_type": "code",
        "colab": {
          "base_uri": "https://localhost:8080/",
          "height": 431
        },
        "outputId": "9316b1f3-4f7a-44cf-b40a-6703c18c04e4"
      },
      "source": [
        "#Grafico de VOTOS discretizado\n",
        "counts = base['VOTOS_inter_1'].value_counts()\n",
        "counts.plot.bar(figsize=(10,5))"
      ],
      "execution_count": 210,
      "outputs": [
        {
          "output_type": "execute_result",
          "data": {
            "text/plain": [
              "<matplotlib.axes._subplots.AxesSubplot at 0x7f344c700898>"
            ]
          },
          "metadata": {
            "tags": []
          },
          "execution_count": 210
        },
        {
          "output_type": "display_data",
          "data": {
            "image/png": "[encoded data removed]",
            "text/plain": [
              "<Figure size 720x360 with 1 Axes>"
            ]
          },
          "metadata": {
            "tags": []
          }
        }
      ]
    },
    {
      "cell_type": "markdown",
      "metadata": {
        "id": "Kkwr-AdnKUPK",
        "colab_type": "text"
      },
      "source": [
        "Removendo outliers utilizando z-score robusto (univariado)\n"
      ]
    },
    {
      "cell_type": "code",
      "metadata": {
        "id": "nytyBtVyMHgM",
        "colab_type": "code",
        "colab": {
          "base_uri": "https://localhost:8080/",
          "height": 170
        },
        "outputId": "1d465abb-37fe-40e6-b6ef-d0d16812e426"
      },
      "source": [
        "base['PC'].describe()\n",
        "\n"
      ],
      "execution_count": 212,
      "outputs": [
        {
          "output_type": "execute_result",
          "data": {
            "text/plain": [
              "count       185.000000\n",
              "mean      10368.751351\n",
              "std       25527.057328\n",
              "min         877.000000\n",
              "25%        3587.000000\n",
              "50%        5169.000000\n",
              "75%        8584.000000\n",
              "max      311792.000000\n",
              "Name: PC, dtype: float64"
            ]
          },
          "metadata": {
            "tags": []
          },
          "execution_count": 212
        }
      ]
    },
    {
      "cell_type": "code",
      "metadata": {
        "id": "uAN5i_-IPYK5",
        "colab_type": "code",
        "colab": {
          "base_uri": "https://localhost:8080/",
          "height": 282
        },
        "outputId": "f83a391d-da50-4961-ecfa-ca9717461695"
      },
      "source": [
        "base['PC'].plot.box()\n"
      ],
      "execution_count": 213,
      "outputs": [
        {
          "output_type": "execute_result",
          "data": {
            "text/plain": [
              "<matplotlib.axes._subplots.AxesSubplot at 0x7f344c601780>"
            ]
          },
          "metadata": {
            "tags": []
          },
          "execution_count": 213
        },
        {
          "output_type": "display_data",
          "data": {
            "image/png": "[encoded data removed]",
            "text/plain": [
              "<Figure size 432x288 with 1 Axes>"
            ]
          },
          "metadata": {
            "tags": []
          }
        }
      ]
    },
    {
      "cell_type": "code",
      "metadata": {
        "id": "RjO-KykNProD",
        "colab_type": "code",
        "colab": {
          "base_uri": "https://localhost:8080/",
          "height": 282
        },
        "outputId": "dc58ea62-8897-45e1-e995-06206455d211"
      },
      "source": [
        "base['PC'].hist()\n"
      ],
      "execution_count": 214,
      "outputs": [
        {
          "output_type": "execute_result",
          "data": {
            "text/plain": [
              "<matplotlib.axes._subplots.AxesSubplot at 0x7f344c5c7518>"
            ]
          },
          "metadata": {
            "tags": []
          },
          "execution_count": 214
        },
        {
          "output_type": "display_data",
          "data": {
            "image/png": "[encoded data removed]",
            "text/plain": [
              "<Figure size 432x288 with 1 Axes>"
            ]
          },
          "metadata": {
            "tags": []
          }
        }
      ]
    },
    {
      "cell_type": "code",
      "metadata": {
        "id": "PjwDWlsJPys0",
        "colab_type": "code",
        "colab": {
          "base_uri": "https://localhost:8080/",
          "height": 282
        },
        "outputId": "b1827e57-c8c6-4e59-cd73-1f75aca57c1f"
      },
      "source": [
        "from numpy import log10\n",
        "base['PC_log'] = log10(base['PC'])\n",
        "base['PC_log'].hist()"
      ],
      "execution_count": 215,
      "outputs": [
        {
          "output_type": "execute_result",
          "data": {
            "text/plain": [
              "<matplotlib.axes._subplots.AxesSubplot at 0x7f344c56ac88>"
            ]
          },
          "metadata": {
            "tags": []
          },
          "execution_count": 215
        },
        {
          "output_type": "display_data",
          "data": {
            "image/png": "[encoded data removed]",
            "text/plain": [
              "<Figure size 432x288 with 1 Axes>"
            ]
          },
          "metadata": {
            "tags": []
          }
        }
      ]
    },
    {
      "cell_type": "code",
      "metadata": {
        "id": "RF4TY645Tn7_",
        "colab_type": "code",
        "colab": {
          "base_uri": "https://localhost:8080/",
          "height": 282
        },
        "outputId": "73c22dff-69c6-4187-f3e1-8fcfcf281272"
      },
      "source": [
        "from numpy import log10\n",
        "base['AM_log'] = log10(base['AM'])\n",
        "base['AM_log'].hist()"
      ],
      "execution_count": 221,
      "outputs": [
        {
          "output_type": "execute_result",
          "data": {
            "text/plain": [
              "<matplotlib.axes._subplots.AxesSubplot at 0x7f344b1e14a8>"
            ]
          },
          "metadata": {
            "tags": []
          },
          "execution_count": 221
        },
        {
          "output_type": "display_data",
          "data": {
            "image/png": "[encoded data removed]",
            "text/plain": [
              "<Figure size 432x288 with 1 Axes>"
            ]
          },
          "metadata": {
            "tags": []
          }
        }
      ]
    },
    {
      "cell_type": "code",
      "metadata": {
        "id": "ERkmgJOQToNm",
        "colab_type": "code",
        "colab": {
          "base_uri": "https://localhost:8080/",
          "height": 282
        },
        "outputId": "85d3a59b-f1aa-4c2c-fd91-7450b8e0d58d"
      },
      "source": [
        "from numpy import log10\n",
        "base['VOTOS_log'] = log10(base['VOTOS'])\n",
        "base['VOTOS_log'].hist()"
      ],
      "execution_count": 222,
      "outputs": [
        {
          "output_type": "execute_result",
          "data": {
            "text/plain": [
              "<matplotlib.axes._subplots.AxesSubplot at 0x7f344b12d048>"
            ]
          },
          "metadata": {
            "tags": []
          },
          "execution_count": 222
        },
        {
          "output_type": "display_data",
          "data": {
            "image/png": "[encoded data removed]",
            "text/plain": [
              "<Figure size 432x288 with 1 Axes>"
            ]
          },
          "metadata": {
            "tags": []
          }
        }
      ]
    },
    {
      "cell_type": "code",
      "metadata": {
        "id": "N3suQnKCQNcq",
        "colab_type": "code",
        "colab": {
          "base_uri": "https://localhost:8080/",
          "height": 34
        },
        "outputId": "581359a2-8bc8-46c7-e4da-84591cae7073"
      },
      "source": [
        "from numpy import abs\n",
        "mad = abs(base['PC_log'] - base['PC_log'].median()).median()*(1/0.6745)\n",
        "print(mad)"
      ],
      "execution_count": 216,
      "outputs": [
        {
          "output_type": "stream",
          "text": [
            "0.27312165918865916\n"
          ],
          "name": "stdout"
        }
      ]
    },
    {
      "cell_type": "code",
      "metadata": {
        "id": "C-NKgZoBQbJM",
        "colab_type": "code",
        "colab": {
          "base_uri": "https://localhost:8080/",
          "height": 34
        },
        "outputId": "469f750e-9f10-4c03-9513-8819eae62bf4"
      },
      "source": [
        "base['PC_log'].mad()\n"
      ],
      "execution_count": 217,
      "outputs": [
        {
          "output_type": "execute_result",
          "data": {
            "text/plain": [
              "0.26303926972560454"
            ]
          },
          "metadata": {
            "tags": []
          },
          "execution_count": 217
        }
      ]
    },
    {
      "cell_type": "code",
      "metadata": {
        "id": "H_XmISjSQkMs",
        "colab_type": "code",
        "colab": {
          "base_uri": "https://localhost:8080/",
          "height": 282
        },
        "outputId": "1116ce40-4e0e-4878-e71b-b210ce902133"
      },
      "source": [
        "(abs(base['PC_log']-base['PC_log'].median())/mad).hist()\n"
      ],
      "execution_count": 219,
      "outputs": [
        {
          "output_type": "execute_result",
          "data": {
            "text/plain": [
              "<matplotlib.axes._subplots.AxesSubplot at 0x7f344b203518>"
            ]
          },
          "metadata": {
            "tags": []
          },
          "execution_count": 219
        },
        {
          "output_type": "display_data",
          "data": {
            "image/png": "[encoded data removed]",
            "text/plain": [
              "<Figure size 432x288 with 1 Axes>"
            ]
          },
          "metadata": {
            "tags": []
          }
        }
      ]
    },
    {
      "cell_type": "code",
      "metadata": {
        "id": "CziLtZtwQydg",
        "colab_type": "code",
        "colab": {
          "base_uri": "https://localhost:8080/",
          "height": 337
        },
        "outputId": "94fc1dfe-92ff-492a-fbbb-59fb9f89a5c1"
      },
      "source": [
        "base[abs(base['PC_log']-base['PC_log'].median())/mad > 3.5]\n"
      ],
      "execution_count": 223,
      "outputs": [
        {
          "output_type": "execute_result",
          "data": {
            "text/html": [
              "<div>\n",
              "<style scoped>\n",
              "    .dataframe tbody tr th:only-of-type {\n",
              "        vertical-align: middle;\n",
              "    }\n",
              "\n",
              "    .dataframe tbody tr th {\n",
              "        vertical-align: top;\n",
              "    }\n",
              "\n",
              "    .dataframe thead th {\n",
              "        text-align: right;\n",
              "    }\n",
              "</style>\n",
              "<table border=\"1\" class=\"dataframe\">\n",
              "  <thead>\n",
              "    <tr style=\"text-align: right;\">\n",
              "      <th></th>\n",
              "      <th>RD</th>\n",
              "      <th>MUNICIPIO</th>\n",
              "      <th>ELEITORES</th>\n",
              "      <th>VOTOS</th>\n",
              "      <th>PC</th>\n",
              "      <th>AM</th>\n",
              "      <th>PC_1</th>\n",
              "      <th>VOTOS_1</th>\n",
              "      <th>VOTOS_inter</th>\n",
              "      <th>VOTOS_inter_1</th>\n",
              "      <th>PC_log</th>\n",
              "      <th>AM_log</th>\n",
              "      <th>VOTOS_log</th>\n",
              "    </tr>\n",
              "  </thead>\n",
              "  <tbody>\n",
              "    <tr>\n",
              "      <th>0</th>\n",
              "      <td>METROPOLITANA</td>\n",
              "      <td>RECIFE</td>\n",
              "      <td>1155816</td>\n",
              "      <td>718245</td>\n",
              "      <td>311792</td>\n",
              "      <td>239123</td>\n",
              "      <td>1.000000</td>\n",
              "      <td>1.000000</td>\n",
              "      <td>(682405.25, 718245.0]</td>\n",
              "      <td>(26424.0, 718245.0]</td>\n",
              "      <td>5.493865</td>\n",
              "      <td>5.378621</td>\n",
              "      <td>5.856273</td>\n",
              "    </tr>\n",
              "    <tr>\n",
              "      <th>1</th>\n",
              "      <td>METROPOLITANA</td>\n",
              "      <td>JABOATÌO DOS GUARARAPES</td>\n",
              "      <td>452277</td>\n",
              "      <td>231682</td>\n",
              "      <td>107669</td>\n",
              "      <td>82928</td>\n",
              "      <td>0.343477</td>\n",
              "      <td>0.321196</td>\n",
              "      <td>(216488.5, 252328.25]</td>\n",
              "      <td>(26424.0, 718245.0]</td>\n",
              "      <td>5.032091</td>\n",
              "      <td>4.918701</td>\n",
              "      <td>5.364892</td>\n",
              "    </tr>\n",
              "    <tr>\n",
              "      <th>2</th>\n",
              "      <td>METROPOLITANA</td>\n",
              "      <td>OLINDA</td>\n",
              "      <td>276081</td>\n",
              "      <td>169700</td>\n",
              "      <td>81276</td>\n",
              "      <td>50904</td>\n",
              "      <td>0.258588</td>\n",
              "      <td>0.234725</td>\n",
              "      <td>(144809.0, 180648.75]</td>\n",
              "      <td>(26424.0, 718245.0]</td>\n",
              "      <td>4.909962</td>\n",
              "      <td>4.706752</td>\n",
              "      <td>5.229682</td>\n",
              "    </tr>\n",
              "    <tr>\n",
              "      <th>3</th>\n",
              "      <td>METROPOLITANA</td>\n",
              "      <td>PAULISTA</td>\n",
              "      <td>208363</td>\n",
              "      <td>129039</td>\n",
              "      <td>63229</td>\n",
              "      <td>40762</td>\n",
              "      <td>0.200544</td>\n",
              "      <td>0.177999</td>\n",
              "      <td>(108969.25, 144809.0]</td>\n",
              "      <td>(26424.0, 718245.0]</td>\n",
              "      <td>4.800916</td>\n",
              "      <td>4.610255</td>\n",
              "      <td>5.110721</td>\n",
              "    </tr>\n",
              "    <tr>\n",
              "      <th>4</th>\n",
              "      <td>AGRESTE CENTRAL</td>\n",
              "      <td>CARUARU</td>\n",
              "      <td>216900</td>\n",
              "      <td>123843</td>\n",
              "      <td>50996</td>\n",
              "      <td>57523</td>\n",
              "      <td>0.161198</td>\n",
              "      <td>0.170750</td>\n",
              "      <td>(108969.25, 144809.0]</td>\n",
              "      <td>(26424.0, 718245.0]</td>\n",
              "      <td>4.707536</td>\n",
              "      <td>4.759842</td>\n",
              "      <td>5.092871</td>\n",
              "    </tr>\n",
              "    <tr>\n",
              "      <th>5</th>\n",
              "      <td>SERTÌO DO SÌO FRANCISCO</td>\n",
              "      <td>PETROLINA</td>\n",
              "      <td>198599</td>\n",
              "      <td>117693</td>\n",
              "      <td>48707</td>\n",
              "      <td>38403</td>\n",
              "      <td>0.153836</td>\n",
              "      <td>0.162170</td>\n",
              "      <td>(108969.25, 144809.0]</td>\n",
              "      <td>(26424.0, 718245.0]</td>\n",
              "      <td>4.687591</td>\n",
              "      <td>4.584365</td>\n",
              "      <td>5.070751</td>\n",
              "    </tr>\n",
              "  </tbody>\n",
              "</table>\n",
              "</div>"
            ],
            "text/plain": [
              "                        RD                MUNICIPIO  ...    AM_log  VOTOS_log\n",
              "0            METROPOLITANA                   RECIFE  ...  5.378621   5.856273\n",
              "1            METROPOLITANA  JABOATÌO DOS GUARARAPES  ...  4.918701   5.364892\n",
              "2            METROPOLITANA                   OLINDA  ...  4.706752   5.229682\n",
              "3            METROPOLITANA                 PAULISTA  ...  4.610255   5.110721\n",
              "4          AGRESTE CENTRAL                  CARUARU  ...  4.759842   5.092871\n",
              "5  SERTÌO DO SÌO FRANCISCO                PETROLINA  ...  4.584365   5.070751\n",
              "\n",
              "[6 rows x 13 columns]"
            ]
          },
          "metadata": {
            "tags": []
          },
          "execution_count": 223
        }
      ]
    },
    {
      "cell_type": "markdown",
      "metadata": {
        "id": "5h5GRRAZRVoO",
        "colab_type": "text"
      },
      "source": [
        "#Estatíticas Descritivas"
      ]
    },
    {
      "cell_type": "code",
      "metadata": {
        "id": "1XB_KrP2RZ2R",
        "colab_type": "code",
        "colab": {
          "base_uri": "https://localhost:8080/",
          "height": 85
        },
        "outputId": "7db66150-ff94-4024-8922-19e4105b60e4"
      },
      "source": [
        "#Maior Votação de Paulo Câmara\n",
        "print('Maior votação de PC: ')\n",
        "print('RD: ',base[base['PC'] ==  base['PC'].max()]['RD'].iloc[0])\n",
        "print('Município: ',base[base['PC'] ==  base['PC'].max()]['MUNICIPIO'].iloc[0])\n",
        "print('Votação: ',base[base['PC'] ==  base['PC'].max()]['PC'].iloc[0])\n"
      ],
      "execution_count": 233,
      "outputs": [
        {
          "output_type": "stream",
          "text": [
            "Maior votação de PC: \n",
            "RD:  METROPOLITANA\n",
            "Município:  RECIFE\n",
            "Votação:  311792\n"
          ],
          "name": "stdout"
        }
      ]
    },
    {
      "cell_type": "code",
      "metadata": {
        "id": "OEL2hA26Xo8z",
        "colab_type": "code",
        "colab": {
          "base_uri": "https://localhost:8080/",
          "height": 85
        },
        "outputId": "d6fbfdd0-7eb1-4947-8d02-4cfb82d76473"
      },
      "source": [
        "#Maior Votação de Armando Monteiro\n",
        "print('Maior votação de AM: ')\n",
        "print('RD: ',base[base['AM'] ==  base['AM'].max()]['RD'].iloc[0])\n",
        "print('Município: ',base[base['AM'] ==  base['AM'].max()]['MUNICIPIO'].iloc[0])\n",
        "print('Votação: ',base[base['AM'] ==  base['AM'].max()]['AM'].iloc[0])"
      ],
      "execution_count": 234,
      "outputs": [
        {
          "output_type": "stream",
          "text": [
            "Maior votação de AM: \n",
            "RD:  METROPOLITANA\n",
            "Município:  RECIFE\n",
            "Votação:  239123\n"
          ],
          "name": "stdout"
        }
      ]
    },
    {
      "cell_type": "code",
      "metadata": {
        "id": "x4zblx8sX5TA",
        "colab_type": "code",
        "colab": {
          "base_uri": "https://localhost:8080/",
          "height": 34
        },
        "outputId": "3dc73066-28a9-4db2-fb4f-c2a570b93811"
      },
      "source": [
        "# Soma dos votos de PC\n",
        "base.PC.sum()"
      ],
      "execution_count": 235,
      "outputs": [
        {
          "output_type": "execute_result",
          "data": {
            "text/plain": [
              "1918219"
            ]
          },
          "metadata": {
            "tags": []
          },
          "execution_count": 235
        }
      ]
    },
    {
      "cell_type": "code",
      "metadata": {
        "id": "A-jdV5dOYB9E",
        "colab_type": "code",
        "colab": {
          "base_uri": "https://localhost:8080/",
          "height": 34
        },
        "outputId": "5cf8d638-145a-46bc-eb8f-732a88540cf8"
      },
      "source": [
        "# Soma dos votos de AM\n",
        "base.AM.sum()"
      ],
      "execution_count": 236,
      "outputs": [
        {
          "output_type": "execute_result",
          "data": {
            "text/plain": [
              "1361588"
            ]
          },
          "metadata": {
            "tags": []
          },
          "execution_count": 236
        }
      ]
    },
    {
      "cell_type": "code",
      "metadata": {
        "id": "6PBkM6V5YIiX",
        "colab_type": "code",
        "colab": {
          "base_uri": "https://localhost:8080/",
          "height": 255
        },
        "outputId": "4109b652-985a-4033-a9fb-90e831b52bde"
      },
      "source": [
        "# Soma dos Votos de PC por RD\n",
        "base.groupby('RD')['PC'].sum()"
      ],
      "execution_count": 237,
      "outputs": [
        {
          "output_type": "execute_result",
          "data": {
            "text/plain": [
              "RD\n",
              "AGRESTE CENTRAL            197408\n",
              "AGRESTE MERIDIONAL         131827\n",
              "AGRESTE SETENTRIONAL       113198\n",
              "MATA NORTE                 136725\n",
              "MATA SUL                   174681\n",
              "METROPOLITANA              803111\n",
              "SERTÌO CENTRAL              47759\n",
              "SERTÌO DE ITAPARICA         42269\n",
              "SERTÌO DO ARARIPE           70288\n",
              "SERTÌO DO MOXOTî            51481\n",
              "SERTÌO DO PAJEò             69010\n",
              "SERTÌO DO SÌO FRANCISCO     80462\n",
              "Name: PC, dtype: int64"
            ]
          },
          "metadata": {
            "tags": []
          },
          "execution_count": 237
        }
      ]
    },
    {
      "cell_type": "code",
      "metadata": {
        "id": "FfU8X4dEYR8i",
        "colab_type": "code",
        "colab": {
          "base_uri": "https://localhost:8080/",
          "height": 255
        },
        "outputId": "5a795554-6de8-43d3-d60f-ca3d5fca5ee0"
      },
      "source": [
        "#Soma dos Votos de AM por RD\n",
        "base.groupby('RD')['AM'].sum()"
      ],
      "execution_count": 240,
      "outputs": [
        {
          "output_type": "execute_result",
          "data": {
            "text/plain": [
              "RD\n",
              "AGRESTE CENTRAL            185063\n",
              "AGRESTE MERIDIONAL         121637\n",
              "AGRESTE SETENTRIONAL        99888\n",
              "MATA NORTE                  70846\n",
              "MATA SUL                    82087\n",
              "METROPOLITANA              545884\n",
              "SERTÌO CENTRAL              27046\n",
              "SERTÌO DE ITAPARICA         16200\n",
              "SERTÌO DO ARARIPE           52030\n",
              "SERTÌO DO MOXOTî            32967\n",
              "SERTÌO DO PAJEò             65137\n",
              "SERTÌO DO SÌO FRANCISCO     62803\n",
              "Name: AM, dtype: int64"
            ]
          },
          "metadata": {
            "tags": []
          },
          "execution_count": 240
        }
      ]
    },
    {
      "cell_type": "code",
      "metadata": {
        "id": "StLF8S7lYsJj",
        "colab_type": "code",
        "colab": {
          "base_uri": "https://localhost:8080/",
          "height": 585
        },
        "outputId": "0e2f4103-92f6-4ad8-d6cd-e0619d40971b"
      },
      "source": [
        "#Votação de PC por RD\n",
        "base.groupby('RD')['PC'].sum().nlargest(12).sort_values(ascending=False).plot.bar(figsize=(15,7))"
      ],
      "execution_count": 267,
      "outputs": [
        {
          "output_type": "execute_result",
          "data": {
            "text/plain": [
              "<matplotlib.axes._subplots.AxesSubplot at 0x7f344a535fd0>"
            ]
          },
          "metadata": {
            "tags": []
          },
          "execution_count": 267
        },
        {
          "output_type": "display_data",
          "data": {
            "image/png": "[encoded data removed]",
            "text/plain": [
              "<Figure size 1080x504 with 1 Axes>"
            ]
          },
          "metadata": {
            "tags": []
          }
        }
      ]
    },
    {
      "cell_type": "code",
      "metadata": {
        "id": "M_L-llcdZZIY",
        "colab_type": "code",
        "colab": {
          "base_uri": "https://localhost:8080/",
          "height": 585
        },
        "outputId": "42cb4026-c92a-4941-f23e-eb082fa26790"
      },
      "source": [
        "#Votação AM por RD\n",
        "base.groupby('RD')['AM'].sum().nlargest(12).sort_values(ascending=False).plot.bar(figsize=(15,7))"
      ],
      "execution_count": 266,
      "outputs": [
        {
          "output_type": "execute_result",
          "data": {
            "text/plain": [
              "<matplotlib.axes._subplots.AxesSubplot at 0x7f344a5ef668>"
            ]
          },
          "metadata": {
            "tags": []
          },
          "execution_count": 266
        },
        {
          "output_type": "display_data",
          "data": {
            "image/png": "[encoded data removed]",
            "text/plain": [
              "<Figure size 1080x504 with 1 Axes>"
            ]
          },
          "metadata": {
            "tags": []
          }
        }
      ]
    },
    {
      "cell_type": "code",
      "metadata": {
        "id": "M17qawoDZmL8",
        "colab_type": "code",
        "colab": {
          "base_uri": "https://localhost:8080/",
          "height": 255
        },
        "outputId": "d47eb630-a044-4591-d2b7-f37cd055a1b5"
      },
      "source": [
        "#Média de Votação PC por RD\n",
        "base.groupby('RD')['PC'].mean()\n"
      ],
      "execution_count": 244,
      "outputs": [
        {
          "output_type": "execute_result",
          "data": {
            "text/plain": [
              "RD\n",
              "AGRESTE CENTRAL             7592.615385\n",
              "AGRESTE MERIDIONAL          5070.269231\n",
              "AGRESTE SETENTRIONAL        5957.789474\n",
              "MATA NORTE                  7595.833333\n",
              "MATA SUL                    7278.375000\n",
              "METROPOLITANA              50194.437500\n",
              "SERTÌO CENTRAL              5969.875000\n",
              "SERTÌO DE ITAPARICA         6038.428571\n",
              "SERTÌO DO ARARIPE           7028.800000\n",
              "SERTÌO DO MOXOTî            7354.428571\n",
              "SERTÌO DO PAJEò             4059.411765\n",
              "SERTÌO DO SÌO FRANCISCO    11494.571429\n",
              "Name: PC, dtype: float64"
            ]
          },
          "metadata": {
            "tags": []
          },
          "execution_count": 244
        }
      ]
    },
    {
      "cell_type": "code",
      "metadata": {
        "id": "U7o8-qlKbK7f",
        "colab_type": "code",
        "colab": {
          "base_uri": "https://localhost:8080/",
          "height": 255
        },
        "outputId": "e420545b-428d-45d8-8134-fbb50ebf3288"
      },
      "source": [
        "#Mediana de Votação PC por RD\n",
        "base.groupby('RD')['PC'].median()"
      ],
      "execution_count": 248,
      "outputs": [
        {
          "output_type": "execute_result",
          "data": {
            "text/plain": [
              "RD\n",
              "AGRESTE CENTRAL             4515.5\n",
              "AGRESTE MERIDIONAL          3778.5\n",
              "AGRESTE SETENTRIONAL        5055.0\n",
              "MATA NORTE                  6449.5\n",
              "MATA SUL                    5579.0\n",
              "METROPOLITANA              25133.5\n",
              "SERTÌO CENTRAL              4542.5\n",
              "SERTÌO DE ITAPARICA         4577.0\n",
              "SERTÌO DO ARARIPE           5559.0\n",
              "SERTÌO DO MOXOTî            7026.0\n",
              "SERTÌO DO PAJEò             2972.0\n",
              "SERTÌO DO SÌO FRANCISCO     6592.0\n",
              "Name: PC, dtype: float64"
            ]
          },
          "metadata": {
            "tags": []
          },
          "execution_count": 248
        }
      ]
    },
    {
      "cell_type": "code",
      "metadata": {
        "id": "hUqEBwikZzh4",
        "colab_type": "code",
        "colab": {
          "base_uri": "https://localhost:8080/",
          "height": 255
        },
        "outputId": "399a3030-4e80-46ef-fa8a-e320c29b0de3"
      },
      "source": [
        "#Média de Votação AM por RD\n",
        "base.groupby('RD')['AM'].mean()"
      ],
      "execution_count": 245,
      "outputs": [
        {
          "output_type": "execute_result",
          "data": {
            "text/plain": [
              "RD\n",
              "AGRESTE CENTRAL             7117.807692\n",
              "AGRESTE MERIDIONAL          4678.346154\n",
              "AGRESTE SETENTRIONAL        5257.263158\n",
              "MATA NORTE                  3935.888889\n",
              "MATA SUL                    3420.291667\n",
              "METROPOLITANA              34117.750000\n",
              "SERTÌO CENTRAL              3380.750000\n",
              "SERTÌO DE ITAPARICA         2314.285714\n",
              "SERTÌO DO ARARIPE           5203.000000\n",
              "SERTÌO DO MOXOTî            4709.571429\n",
              "SERTÌO DO PAJEò             3831.588235\n",
              "SERTÌO DO SÌO FRANCISCO     8971.857143\n",
              "Name: AM, dtype: float64"
            ]
          },
          "metadata": {
            "tags": []
          },
          "execution_count": 245
        }
      ]
    },
    {
      "cell_type": "code",
      "metadata": {
        "id": "F22NKfpLbQjP",
        "colab_type": "code",
        "colab": {
          "base_uri": "https://localhost:8080/",
          "height": 255
        },
        "outputId": "0019bd14-6c25-4d9e-d4e6-8e154356b776"
      },
      "source": [
        "#Mediana de Votação AM por RD\n",
        "base.groupby('RD')['AM'].median()"
      ],
      "execution_count": 249,
      "outputs": [
        {
          "output_type": "execute_result",
          "data": {
            "text/plain": [
              "RD\n",
              "AGRESTE CENTRAL             4481.0\n",
              "AGRESTE MERIDIONAL          3172.5\n",
              "AGRESTE SETENTRIONAL        3595.0\n",
              "MATA NORTE                  3047.5\n",
              "MATA SUL                    2658.0\n",
              "METROPOLITANA              14505.5\n",
              "SERTÌO CENTRAL              2375.5\n",
              "SERTÌO DE ITAPARICA         2084.0\n",
              "SERTÌO DO ARARIPE           4932.0\n",
              "SERTÌO DO MOXOTî            3864.0\n",
              "SERTÌO DO PAJEò             2226.0\n",
              "SERTÌO DO SÌO FRANCISCO     3751.0\n",
              "Name: AM, dtype: float64"
            ]
          },
          "metadata": {
            "tags": []
          },
          "execution_count": 249
        }
      ]
    },
    {
      "cell_type": "code",
      "metadata": {
        "id": "tP58so1AaXCG",
        "colab_type": "code",
        "colab": {
          "base_uri": "https://localhost:8080/",
          "height": 585
        },
        "outputId": "3963cfba-285f-4dd6-e64e-cdb4bb7be72a"
      },
      "source": [
        "#Média de Votação de PC por RD\n",
        "base.groupby('RD')['PC'].mean().nlargest(12).sort_values(ascending=False).plot.bar(figsize=(15,7))\n"
      ],
      "execution_count": 265,
      "outputs": [
        {
          "output_type": "execute_result",
          "data": {
            "text/plain": [
              "<matplotlib.axes._subplots.AxesSubplot at 0x7f344a7232b0>"
            ]
          },
          "metadata": {
            "tags": []
          },
          "execution_count": 265
        },
        {
          "output_type": "display_data",
          "data": {
            "image/png": "[encoded data removed]",
            "text/plain": [
              "<Figure size 1080x504 with 1 Axes>"
            ]
          },
          "metadata": {
            "tags": []
          }
        }
      ]
    },
    {
      "cell_type": "code",
      "metadata": {
        "id": "MSdgGrNlbe1K",
        "colab_type": "code",
        "colab": {
          "base_uri": "https://localhost:8080/",
          "height": 585
        },
        "outputId": "a079e733-685d-46b8-b73a-035c92039040"
      },
      "source": [
        "#Média de Votação de AM por RD\n",
        "base.groupby('RD')['AM'].mean().nlargest(12).sort_values(ascending=False).plot.bar(figsize=(15,7))"
      ],
      "execution_count": 264,
      "outputs": [
        {
          "output_type": "execute_result",
          "data": {
            "text/plain": [
              "<matplotlib.axes._subplots.AxesSubplot at 0x7f344a80b3c8>"
            ]
          },
          "metadata": {
            "tags": []
          },
          "execution_count": 264
        },
        {
          "output_type": "display_data",
          "data": {
            "image/png": "[encoded data removed]",
            "text/plain": [
              "<Figure size 1080x504 with 1 Axes>"
            ]
          },
          "metadata": {
            "tags": []
          }
        }
      ]
    },
    {
      "cell_type": "code",
      "metadata": {
        "id": "MbERVTy2aw98",
        "colab_type": "code",
        "colab": {
          "base_uri": "https://localhost:8080/",
          "height": 667
        },
        "outputId": "9129e741-2b1b-45e5-922c-e74490537aba"
      },
      "source": [
        "#10 MAIORES VOTAÇÕES DE PC\n",
        "base.groupby('MUNICIPIO')['PC'].mean().nlargest(20).sort_values(ascending=False).plot.bar(figsize=(15,7))\n"
      ],
      "execution_count": 263,
      "outputs": [
        {
          "output_type": "execute_result",
          "data": {
            "text/plain": [
              "<matplotlib.axes._subplots.AxesSubplot at 0x7f344a79a6a0>"
            ]
          },
          "metadata": {
            "tags": []
          },
          "execution_count": 263
        },
        {
          "output_type": "stream",
          "text": [
            "/usr/local/lib/python3.6/dist-packages/matplotlib/backends/backend_agg.py:211: RuntimeWarning: Glyph 130 missing from current font.\n",
            "  font.set_text(s, 0.0, flags=flags)\n",
            "/usr/local/lib/python3.6/dist-packages/matplotlib/backends/backend_agg.py:180: RuntimeWarning: Glyph 130 missing from current font.\n",
            "  font.set_text(s, 0, flags=flags)\n"
          ],
          "name": "stderr"
        },
        {
          "output_type": "display_data",
          "data": {
            "image/png": "[encoded data removed]",
            "text/plain": [
              "<Figure size 1080x504 with 1 Axes>"
            ]
          },
          "metadata": {
            "tags": []
          }
        }
      ]
    },
    {
      "cell_type": "code",
      "metadata": {
        "id": "YUi9ulbHffnT",
        "colab_type": "code",
        "colab": {
          "base_uri": "https://localhost:8080/",
          "height": 673
        },
        "outputId": "a4002f80-a9df-4701-c369-61b4d041a344"
      },
      "source": [
        "#10 MENORES VOTAÇÕES DE PC\n",
        "base.groupby('MUNICIPIO')['PC'].mean().nsmallest(20).sort_values(ascending=False).plot.bar(figsize=(15,7))"
      ],
      "execution_count": 275,
      "outputs": [
        {
          "output_type": "execute_result",
          "data": {
            "text/plain": [
              "<matplotlib.axes._subplots.AxesSubplot at 0x7f344a3e3ac8>"
            ]
          },
          "metadata": {
            "tags": []
          },
          "execution_count": 275
        },
        {
          "output_type": "stream",
          "text": [
            "/usr/local/lib/python3.6/dist-packages/matplotlib/backends/backend_agg.py:211: RuntimeWarning: Glyph 130 missing from current font.\n",
            "  font.set_text(s, 0.0, flags=flags)\n",
            "/usr/local/lib/python3.6/dist-packages/matplotlib/backends/backend_agg.py:180: RuntimeWarning: Glyph 130 missing from current font.\n",
            "  font.set_text(s, 0, flags=flags)\n"
          ],
          "name": "stderr"
        },
        {
          "output_type": "display_data",
          "data": {
            "image/png": "[encoded data removed]",
            "text/plain": [
              "<Figure size 1080x504 with 1 Axes>"
            ]
          },
          "metadata": {
            "tags": []
          }
        }
      ]
    },
    {
      "cell_type": "code",
      "metadata": {
        "id": "LDSu8VH7bmw9",
        "colab_type": "code",
        "colab": {
          "base_uri": "https://localhost:8080/",
          "height": 669
        },
        "outputId": "97dd264e-2c6d-4d02-ae90-63ae958ca32f"
      },
      "source": [
        "#10 MAIORES VOTAÇÕES DE AM\n",
        "base.groupby('MUNICIPIO')['AM'].mean().nlargest(20).sort_values(ascending=False).plot.bar(figsize=(15,7))"
      ],
      "execution_count": 262,
      "outputs": [
        {
          "output_type": "execute_result",
          "data": {
            "text/plain": [
              "<matplotlib.axes._subplots.AxesSubplot at 0x7f344a8d7160>"
            ]
          },
          "metadata": {
            "tags": []
          },
          "execution_count": 262
        },
        {
          "output_type": "stream",
          "text": [
            "/usr/local/lib/python3.6/dist-packages/matplotlib/backends/backend_agg.py:211: RuntimeWarning: Glyph 130 missing from current font.\n",
            "  font.set_text(s, 0.0, flags=flags)\n",
            "/usr/local/lib/python3.6/dist-packages/matplotlib/backends/backend_agg.py:180: RuntimeWarning: Glyph 130 missing from current font.\n",
            "  font.set_text(s, 0, flags=flags)\n"
          ],
          "name": "stderr"
        },
        {
          "output_type": "display_data",
          "data": {
            "image/png": "[encoded data removed]",
            "text/plain": [
              "<Figure size 1080x504 with 1 Axes>"
            ]
          },
          "metadata": {
            "tags": []
          }
        }
      ]
    },
    {
      "cell_type": "code",
      "metadata": {
        "id": "2iRW3-SpgPPD",
        "colab_type": "code",
        "colab": {
          "base_uri": "https://localhost:8080/",
          "height": 717
        },
        "outputId": "a0c4a95b-6d05-4067-c425-7a715feffda3"
      },
      "source": [
        "#10 MENORES VOTAÇÕES DE AM\n",
        "base.groupby('MUNICIPIO')['AM'].mean().nsmallest(20).sort_values(ascending=False).plot.bar(figsize=(15,7))"
      ],
      "execution_count": 276,
      "outputs": [
        {
          "output_type": "execute_result",
          "data": {
            "text/plain": [
              "<matplotlib.axes._subplots.AxesSubplot at 0x7f344a3b67f0>"
            ]
          },
          "metadata": {
            "tags": []
          },
          "execution_count": 276
        },
        {
          "output_type": "stream",
          "text": [
            "/usr/local/lib/python3.6/dist-packages/matplotlib/backends/backend_agg.py:211: RuntimeWarning: Glyph 130 missing from current font.\n",
            "  font.set_text(s, 0.0, flags=flags)\n",
            "/usr/local/lib/python3.6/dist-packages/matplotlib/backends/backend_agg.py:211: RuntimeWarning: Glyph 131 missing from current font.\n",
            "  font.set_text(s, 0.0, flags=flags)\n",
            "/usr/local/lib/python3.6/dist-packages/matplotlib/backends/backend_agg.py:180: RuntimeWarning: Glyph 130 missing from current font.\n",
            "  font.set_text(s, 0, flags=flags)\n",
            "/usr/local/lib/python3.6/dist-packages/matplotlib/backends/backend_agg.py:180: RuntimeWarning: Glyph 131 missing from current font.\n",
            "  font.set_text(s, 0, flags=flags)\n"
          ],
          "name": "stderr"
        },
        {
          "output_type": "display_data",
          "data": {
            "image/png": "[encoded data removed]",
            "text/plain": [
              "<Figure size 1080x504 with 1 Axes>"
            ]
          },
          "metadata": {
            "tags": []
          }
        }
      ]
    },
    {
      "cell_type": "code",
      "metadata": {
        "id": "1upQzVnGb2Bd",
        "colab_type": "code",
        "colab": {
          "base_uri": "https://localhost:8080/",
          "height": 585
        },
        "outputId": "f41d49eb-3268-45f1-b9e1-730d049cc2ca"
      },
      "source": [
        "# Gráfico da mediana PC por RD\n",
        "base.groupby('RD')['PC'].median().nlargest(12).sort_values(ascending=False).plot.bar(figsize=(15,7))"
      ],
      "execution_count": 261,
      "outputs": [
        {
          "output_type": "execute_result",
          "data": {
            "text/plain": [
              "<matplotlib.axes._subplots.AxesSubplot at 0x7f344a8feb00>"
            ]
          },
          "metadata": {
            "tags": []
          },
          "execution_count": 261
        },
        {
          "output_type": "display_data",
          "data": {
            "image/png": "[encoded data removed]",
            "text/plain": [
              "<Figure size 1080x504 with 1 Axes>"
            ]
          },
          "metadata": {
            "tags": []
          }
        }
      ]
    },
    {
      "cell_type": "code",
      "metadata": {
        "id": "38HKOLkgcK4a",
        "colab_type": "code",
        "colab": {
          "base_uri": "https://localhost:8080/",
          "height": 585
        },
        "outputId": "445b3b86-f9e1-4763-cda1-30cf59abd281"
      },
      "source": [
        "# Gráfico da mediana AM por RD\n",
        "base.groupby('RD')['AM'].median().nlargest(12).sort_values(ascending=False).plot.bar(figsize=(15,7))"
      ],
      "execution_count": 260,
      "outputs": [
        {
          "output_type": "execute_result",
          "data": {
            "text/plain": [
              "<matplotlib.axes._subplots.AxesSubplot at 0x7f344a9525c0>"
            ]
          },
          "metadata": {
            "tags": []
          },
          "execution_count": 260
        },
        {
          "output_type": "display_data",
          "data": {
            "image/png": "[encoded data removed]",
            "text/plain": [
              "<Figure size 1080x504 with 1 Axes>"
            ]
          },
          "metadata": {
            "tags": []
          }
        }
      ]
    },
    {
      "cell_type": "code",
      "metadata": {
        "id": "ze6qZygrcUMS",
        "colab_type": "code",
        "colab": {
          "base_uri": "https://localhost:8080/",
          "height": 255
        },
        "outputId": "d8dc4deb-5abc-4e90-e922-31dd70128ffb"
      },
      "source": [
        "# Desvio Padrão PC por RD\n",
        "base.groupby('RD')['PC'].std()"
      ],
      "execution_count": 256,
      "outputs": [
        {
          "output_type": "execute_result",
          "data": {
            "text/plain": [
              "RD\n",
              "AGRESTE CENTRAL             9424.459094\n",
              "AGRESTE MERIDIONAL          3951.472865\n",
              "AGRESTE SETENTRIONAL        3461.228725\n",
              "MATA NORTE                  3915.848150\n",
              "MATA SUL                    5697.311828\n",
              "METROPOLITANA              75565.287341\n",
              "SERTÌO CENTRAL              4127.657981\n",
              "SERTÌO DE ITAPARICA         3305.708238\n",
              "SERTÌO DO ARARIPE           4495.520828\n",
              "SERTÌO DO MOXOTî            3933.453989\n",
              "SERTÌO DO PAJEò             2766.589350\n",
              "SERTÌO DO SÌO FRANCISCO    16536.891857\n",
              "Name: PC, dtype: float64"
            ]
          },
          "metadata": {
            "tags": []
          },
          "execution_count": 256
        }
      ]
    },
    {
      "cell_type": "code",
      "metadata": {
        "id": "h8JCBsN6ccFu",
        "colab_type": "code",
        "colab": {
          "base_uri": "https://localhost:8080/",
          "height": 255
        },
        "outputId": "26b445a0-f539-491e-d808-edcc8774969b"
      },
      "source": [
        "# Desvio Padrão AM por RD\n",
        "base.groupby('RD')['AM'].std()"
      ],
      "execution_count": 257,
      "outputs": [
        {
          "output_type": "execute_result",
          "data": {
            "text/plain": [
              "RD\n",
              "AGRESTE CENTRAL            10868.928727\n",
              "AGRESTE MERIDIONAL          5427.935106\n",
              "AGRESTE SETENTRIONAL        5165.616203\n",
              "MATA NORTE                  2910.615740\n",
              "MATA SUL                    3956.510941\n",
              "METROPOLITANA              58839.083109\n",
              "SERTÌO CENTRAL              2343.253340\n",
              "SERTÌO DE ITAPARICA         1436.906250\n",
              "SERTÌO DO ARARIPE           4398.683793\n",
              "SERTÌO DO MOXOTî            3206.487739\n",
              "SERTÌO DO PAJEò             4371.464258\n",
              "SERTÌO DO SÌO FRANCISCO    13146.877759\n",
              "Name: AM, dtype: float64"
            ]
          },
          "metadata": {
            "tags": []
          },
          "execution_count": 257
        }
      ]
    }
  ]
}