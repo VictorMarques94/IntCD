{
  "nbformat": 4,
  "nbformat_minor": 0,
  "metadata": {
    "colab": {
      "name": "ProjetoCD.ipynb",
      "provenance": [],
      "include_colab_link": true
    },
    "kernelspec": {
      "name": "python3",
      "display_name": "Python 3"
    }
  },
  "cells": [
    {
      "cell_type": "markdown",
      "metadata": {
        "id": "view-in-github",
        "colab_type": "text"
      },
      "source": [
        "<a href=\"https://colab.research.google.com/github/VictorMarques94/IntCD/blob/master/ProjetoCD.ipynb\" target=\"_parent\"><img src=\"https://colab.research.google.com/assets/colab-badge.svg\" alt=\"Open In Colab\"/></a>"
      ]
    },
    {
      "cell_type": "code",
      "metadata": {
        "id": "WQLa9dm40DzU",
        "colab_type": "code",
        "colab": {}
      },
      "source": [
        ""
      ],
      "execution_count": 0,
      "outputs": []
    },
    {
      "cell_type": "markdown",
      "metadata": {
        "id": "9pC_ERrQqdaR",
        "colab_type": "text"
      },
      "source": [
        "#**Projeto: Eleições 2018, análise do resultado das eleições para Governador de Pernambuco, por município e Região de Desenvolvimento.**\n",
        "\n",
        "\n",
        "Em meio a polarização política no Brasil, nunca se discutiu tanto o uso dos dados, das mais variadas fontes, em campanhas eleitorais.\n",
        "Nesse contexto, considero importante, a análise de dados de eleições passadas com o objetivo de indentificar correlações e possíveis padrões. \n",
        "\n",
        "# Aluno: Victor Marques Alves\n",
        "Disciplina: Introdução à Análise de Dados\n",
        "\n",
        "Professsor: Luciano Barbosa\n",
        "\n",
        "Fonte: Banco pessoal. Informações retiradas do repositório do TRE"
      ]
    },
    {
      "cell_type": "code",
      "metadata": {
        "id": "midWgt11qmmn",
        "colab_type": "code",
        "colab": {}
      },
      "source": [
        ""
      ],
      "execution_count": 0,
      "outputs": []
    },
    {
      "cell_type": "markdown",
      "metadata": {
        "id": "_ADYOZ8q2_y3",
        "colab_type": "text"
      },
      "source": [
        "# Carregando a Base de Dados"
      ]
    },
    {
      "cell_type": "code",
      "metadata": {
        "id": "1ZEAks3M3H5A",
        "colab_type": "code",
        "colab": {}
      },
      "source": [
        "#Importando as Bibliotecas\n",
        "import pandas as pd\n",
        "import numpy as np\n"
      ],
      "execution_count": 0,
      "outputs": []
    },
    {
      "cell_type": "code",
      "metadata": {
        "id": "WArNkJlZ3v4q",
        "colab_type": "code",
        "colab": {}
      },
      "source": [
        "#Importando a nossa base de trabalho\n",
        "base=pd.read_csv(\"https://raw.githubusercontent.com/VictorMarques94/IntCD/master/1%20PERNAMBUCO.csv\",encoding = \"ISO-8859-1\")"
      ],
      "execution_count": 0,
      "outputs": []
    },
    {
      "cell_type": "code",
      "metadata": {
        "id": "Jfcl7Kx47WX2",
        "colab_type": "code",
        "colab": {
          "base_uri": "https://localhost:8080/",
          "height": 34
        },
        "outputId": "08571a4a-bc16-40e0-9661-d7b7f4985788"
      },
      "source": [
        "#Detalhe da Base\n",
        "base.shape"
      ],
      "execution_count": 26,
      "outputs": [
        {
          "output_type": "execute_result",
          "data": {
            "text/plain": [
              "(185, 1)"
            ]
          },
          "metadata": {
            "tags": []
          },
          "execution_count": 26
        }
      ]
    },
    {
      "cell_type": "code",
      "metadata": {
        "id": "xFggPBh48O_7",
        "colab_type": "code",
        "colab": {}
      },
      "source": [
        "#Separando as Colunas por Ponto e Virgula\n",
        "base=pd.read_csv(\"https://raw.githubusercontent.com/VictorMarques94/IntCD/master/1%20PERNAMBUCO.csv\",encoding = \"ISO-8859-1\",sep=\";\")"
      ],
      "execution_count": 0,
      "outputs": []
    },
    {
      "cell_type": "code",
      "metadata": {
        "id": "Xm1mEB739QNS",
        "colab_type": "code",
        "colab": {
          "base_uri": "https://localhost:8080/",
          "height": 34
        },
        "outputId": "06110342-de32-46ac-84e6-63a77848a421"
      },
      "source": [
        "#Detalhe da base após alteração\n",
        "base.shape"
      ],
      "execution_count": 28,
      "outputs": [
        {
          "output_type": "execute_result",
          "data": {
            "text/plain": [
              "(185, 10)"
            ]
          },
          "metadata": {
            "tags": []
          },
          "execution_count": 28
        }
      ]
    },
    {
      "cell_type": "code",
      "metadata": {
        "id": "Ov5Lywq7GHz7",
        "colab_type": "code",
        "colab": {
          "base_uri": "https://localhost:8080/",
          "height": 272
        },
        "outputId": "51fb460a-0e13-46bb-fcf6-ea0d334ea1ec"
      },
      "source": [
        "#Informações da Base\n",
        "base.info()"
      ],
      "execution_count": 36,
      "outputs": [
        {
          "output_type": "stream",
          "text": [
            "<class 'pandas.core.frame.DataFrame'>\n",
            "RangeIndex: 185 entries, 0 to 184\n",
            "Data columns (total 10 columns):\n",
            "RD               185 non-null object\n",
            "MUNICIPIO        185 non-null object\n",
            "ELEITORES        185 non-null object\n",
            "Votos validos    185 non-null float64\n",
            "PC               185 non-null float64\n",
            "% PC             185 non-null object\n",
            "AM               185 non-null float64\n",
            "%AM              185 non-null object\n",
            "OUTROS           185 non-null float64\n",
            "%O               185 non-null object\n",
            "dtypes: float64(4), object(6)\n",
            "memory usage: 14.6+ KB\n"
          ],
          "name": "stdout"
        }
      ]
    },
    {
      "cell_type": "code",
      "metadata": {
        "id": "_ZpzyYsYBFRV",
        "colab_type": "code",
        "colab": {
          "base_uri": "https://localhost:8080/",
          "height": 204
        },
        "outputId": "04d58c4b-2950-49d8-c415-0d69cb670c01"
      },
      "source": [
        "#Visual das primeiras linhas\n",
        "base.head()"
      ],
      "execution_count": 29,
      "outputs": [
        {
          "output_type": "execute_result",
          "data": {
            "text/html": [
              "<div>\n",
              "<style scoped>\n",
              "    .dataframe tbody tr th:only-of-type {\n",
              "        vertical-align: middle;\n",
              "    }\n",
              "\n",
              "    .dataframe tbody tr th {\n",
              "        vertical-align: top;\n",
              "    }\n",
              "\n",
              "    .dataframe thead th {\n",
              "        text-align: right;\n",
              "    }\n",
              "</style>\n",
              "<table border=\"1\" class=\"dataframe\">\n",
              "  <thead>\n",
              "    <tr style=\"text-align: right;\">\n",
              "      <th></th>\n",
              "      <th>RD</th>\n",
              "      <th>MUNICIPIO</th>\n",
              "      <th>ELEITORES</th>\n",
              "      <th>Votos validos</th>\n",
              "      <th>PC</th>\n",
              "      <th>% PC</th>\n",
              "      <th>AM</th>\n",
              "      <th>%AM</th>\n",
              "      <th>OUTROS</th>\n",
              "      <th>%O</th>\n",
              "    </tr>\n",
              "  </thead>\n",
              "  <tbody>\n",
              "    <tr>\n",
              "      <th>0</th>\n",
              "      <td>AGRESTE CENTRAL</td>\n",
              "      <td>AGRESTINA</td>\n",
              "      <td>18.041</td>\n",
              "      <td>10.355</td>\n",
              "      <td>3.896</td>\n",
              "      <td>37,62%</td>\n",
              "      <td>5.858</td>\n",
              "      <td>56,57%</td>\n",
              "      <td>601.000</td>\n",
              "      <td>5,80%</td>\n",
              "    </tr>\n",
              "    <tr>\n",
              "      <th>1</th>\n",
              "      <td>AGRESTE CENTRAL</td>\n",
              "      <td>ALAGOINHA</td>\n",
              "      <td>12.129</td>\n",
              "      <td>6.298</td>\n",
              "      <td>4.421</td>\n",
              "      <td>70,20%</td>\n",
              "      <td>1.428</td>\n",
              "      <td>22,67%</td>\n",
              "      <td>449.000</td>\n",
              "      <td>7,13%</td>\n",
              "    </tr>\n",
              "    <tr>\n",
              "      <th>2</th>\n",
              "      <td>AGRESTE CENTRAL</td>\n",
              "      <td>ALTINHO</td>\n",
              "      <td>16.016</td>\n",
              "      <td>8.155</td>\n",
              "      <td>4.610</td>\n",
              "      <td>56,53%</td>\n",
              "      <td>3.097</td>\n",
              "      <td>37,98%</td>\n",
              "      <td>448.000</td>\n",
              "      <td>5,49%</td>\n",
              "    </tr>\n",
              "    <tr>\n",
              "      <th>3</th>\n",
              "      <td>AGRESTE CENTRAL</td>\n",
              "      <td>BARRA DE GUABIRABA</td>\n",
              "      <td>8.950</td>\n",
              "      <td>5.870</td>\n",
              "      <td>3.932</td>\n",
              "      <td>66,98%</td>\n",
              "      <td>1.670</td>\n",
              "      <td>28,45%</td>\n",
              "      <td>268.000</td>\n",
              "      <td>4,57%</td>\n",
              "    </tr>\n",
              "    <tr>\n",
              "      <th>4</th>\n",
              "      <td>AGRESTE CENTRAL</td>\n",
              "      <td>BELO JARDIM</td>\n",
              "      <td>60.167</td>\n",
              "      <td>26.954</td>\n",
              "      <td>8.584</td>\n",
              "      <td>31,85%</td>\n",
              "      <td>15.993</td>\n",
              "      <td>59,33%</td>\n",
              "      <td>2.377</td>\n",
              "      <td>8,82%</td>\n",
              "    </tr>\n",
              "  </tbody>\n",
              "</table>\n",
              "</div>"
            ],
            "text/plain": [
              "                RD           MUNICIPIO ELEITORES  ...     %AM   OUTROS     %O\n",
              "0  AGRESTE CENTRAL           AGRESTINA    18.041  ...  56,57%  601.000  5,80%\n",
              "1  AGRESTE CENTRAL           ALAGOINHA    12.129  ...  22,67%  449.000  7,13%\n",
              "2  AGRESTE CENTRAL             ALTINHO    16.016  ...  37,98%  448.000  5,49%\n",
              "3  AGRESTE CENTRAL  BARRA DE GUABIRABA     8.950  ...  28,45%  268.000  4,57%\n",
              "4  AGRESTE CENTRAL         BELO JARDIM    60.167  ...  59,33%    2.377  8,82%\n",
              "\n",
              "[5 rows x 10 columns]"
            ]
          },
          "metadata": {
            "tags": []
          },
          "execution_count": 29
        }
      ]
    },
    {
      "cell_type": "code",
      "metadata": {
        "id": "_V5vaihECuBN",
        "colab_type": "code",
        "colab": {
          "base_uri": "https://localhost:8080/",
          "height": 204
        },
        "outputId": "03fa4a74-096f-4a23-c51e-506abd893d5f"
      },
      "source": [
        "#Visual das Últimas Linhas\n",
        "base.tail()"
      ],
      "execution_count": 30,
      "outputs": [
        {
          "output_type": "execute_result",
          "data": {
            "text/html": [
              "<div>\n",
              "<style scoped>\n",
              "    .dataframe tbody tr th:only-of-type {\n",
              "        vertical-align: middle;\n",
              "    }\n",
              "\n",
              "    .dataframe tbody tr th {\n",
              "        vertical-align: top;\n",
              "    }\n",
              "\n",
              "    .dataframe thead th {\n",
              "        text-align: right;\n",
              "    }\n",
              "</style>\n",
              "<table border=\"1\" class=\"dataframe\">\n",
              "  <thead>\n",
              "    <tr style=\"text-align: right;\">\n",
              "      <th></th>\n",
              "      <th>RD</th>\n",
              "      <th>MUNICIPIO</th>\n",
              "      <th>ELEITORES</th>\n",
              "      <th>Votos validos</th>\n",
              "      <th>PC</th>\n",
              "      <th>% PC</th>\n",
              "      <th>AM</th>\n",
              "      <th>%AM</th>\n",
              "      <th>OUTROS</th>\n",
              "      <th>%O</th>\n",
              "    </tr>\n",
              "  </thead>\n",
              "  <tbody>\n",
              "    <tr>\n",
              "      <th>180</th>\n",
              "      <td>SERTÌO DO SÌO FRANCISCO</td>\n",
              "      <td>DORMENTES</td>\n",
              "      <td>15.509</td>\n",
              "      <td>8.722</td>\n",
              "      <td>4.013</td>\n",
              "      <td>46,01%</td>\n",
              "      <td>3.349</td>\n",
              "      <td>38,40%</td>\n",
              "      <td>1.360</td>\n",
              "      <td>15,59%</td>\n",
              "    </tr>\n",
              "    <tr>\n",
              "      <th>181</th>\n",
              "      <td>SERTÌO DO SÌO FRANCISCO</td>\n",
              "      <td>LAGOA GRANDE</td>\n",
              "      <td>19.174</td>\n",
              "      <td>11.041</td>\n",
              "      <td>7.505</td>\n",
              "      <td>67,97%</td>\n",
              "      <td>2.261</td>\n",
              "      <td>20,48%</td>\n",
              "      <td>1.275</td>\n",
              "      <td>11,55%</td>\n",
              "    </tr>\n",
              "    <tr>\n",
              "      <th>182</th>\n",
              "      <td>SERTÌO DO SÌO FRANCISCO</td>\n",
              "      <td>OROCî</td>\n",
              "      <td>11.903</td>\n",
              "      <td>6.829</td>\n",
              "      <td>3.800</td>\n",
              "      <td>55,65%</td>\n",
              "      <td>2.141</td>\n",
              "      <td>31,35%</td>\n",
              "      <td>888.000</td>\n",
              "      <td>13,00%</td>\n",
              "    </tr>\n",
              "    <tr>\n",
              "      <th>183</th>\n",
              "      <td>SERTÌO DO SÌO FRANCISCO</td>\n",
              "      <td>PETROLINA</td>\n",
              "      <td>198.599</td>\n",
              "      <td>117.693</td>\n",
              "      <td>48.707</td>\n",
              "      <td>41,38%</td>\n",
              "      <td>38.403</td>\n",
              "      <td>32,63%</td>\n",
              "      <td>30.583</td>\n",
              "      <td>25,99%</td>\n",
              "    </tr>\n",
              "    <tr>\n",
              "      <th>184</th>\n",
              "      <td>SERTÌO DO SÌO FRANCISCO</td>\n",
              "      <td>SANTA MARIA DA BOA VISTA</td>\n",
              "      <td>29.051</td>\n",
              "      <td>17.184</td>\n",
              "      <td>6.592</td>\n",
              "      <td>38,36%</td>\n",
              "      <td>8.392</td>\n",
              "      <td>48,84%</td>\n",
              "      <td>2.200</td>\n",
              "      <td>12,80%</td>\n",
              "    </tr>\n",
              "  </tbody>\n",
              "</table>\n",
              "</div>"
            ],
            "text/plain": [
              "                          RD                 MUNICIPIO  ...   OUTROS      %O\n",
              "180  SERTÌO DO SÌO FRANCISCO                 DORMENTES  ...    1.360  15,59%\n",
              "181  SERTÌO DO SÌO FRANCISCO              LAGOA GRANDE  ...    1.275  11,55%\n",
              "182  SERTÌO DO SÌO FRANCISCO                     OROCî  ...  888.000  13,00%\n",
              "183  SERTÌO DO SÌO FRANCISCO                 PETROLINA  ...   30.583  25,99%\n",
              "184  SERTÌO DO SÌO FRANCISCO  SANTA MARIA DA BOA VISTA  ...    2.200  12,80%\n",
              "\n",
              "[5 rows x 10 columns]"
            ]
          },
          "metadata": {
            "tags": []
          },
          "execution_count": 30
        }
      ]
    },
    {
      "cell_type": "code",
      "metadata": {
        "id": "sLf0SlhED51f",
        "colab_type": "code",
        "colab": {
          "base_uri": "https://localhost:8080/",
          "height": 204
        },
        "outputId": "f181ef9c-d19f-4724-98f4-4d297fa64cd0"
      },
      "source": [
        "#Verificando os Tipos de Dados das Colunas\n",
        "base.dtypes"
      ],
      "execution_count": 33,
      "outputs": [
        {
          "output_type": "execute_result",
          "data": {
            "text/plain": [
              "RD                object\n",
              "MUNICIPIO         object\n",
              "ELEITORES         object\n",
              "Votos validos    float64\n",
              "PC               float64\n",
              "% PC              object\n",
              "AM               float64\n",
              "%AM               object\n",
              "OUTROS           float64\n",
              "%O                object\n",
              "dtype: object"
            ]
          },
          "metadata": {
            "tags": []
          },
          "execution_count": 33
        }
      ]
    },
    {
      "cell_type": "code",
      "metadata": {
        "id": "sU20OAINGYS4",
        "colab_type": "code",
        "colab": {
          "base_uri": "https://localhost:8080/",
          "height": 204
        },
        "outputId": "81ec2635-55d7-4fe6-8023-554405b0975b"
      },
      "source": [
        "#Alterando os tipos de Dados\n",
        "base.RD = base.RD.astype('category')\n",
        "base.MUNICIPIO = base.MUNICIPIO.astype('category')\n",
        "base.dtypes"
      ],
      "execution_count": 37,
      "outputs": [
        {
          "output_type": "execute_result",
          "data": {
            "text/plain": [
              "RD               category\n",
              "MUNICIPIO        category\n",
              "ELEITORES          object\n",
              "Votos validos     float64\n",
              "PC                float64\n",
              "% PC               object\n",
              "AM                float64\n",
              "%AM                object\n",
              "OUTROS            float64\n",
              "%O                 object\n",
              "dtype: object"
            ]
          },
          "metadata": {
            "tags": []
          },
          "execution_count": 37
        }
      ]
    },
    {
      "cell_type": "markdown",
      "metadata": {
        "id": "G9fANCO9INWs",
        "colab_type": "text"
      },
      "source": [
        "#LIMPEZA DA BASE"
      ]
    },
    {
      "cell_type": "markdown",
      "metadata": {
        "id": "I6ES1qG1IZeZ",
        "colab_type": "text"
      },
      "source": [
        "Verificação de linhas repetidas"
      ]
    },
    {
      "cell_type": "code",
      "metadata": {
        "id": "YM8b4oYfIVdR",
        "colab_type": "code",
        "colab": {
          "base_uri": "https://localhost:8080/",
          "height": 49
        },
        "outputId": "f671aaf5-a01e-4e65-ae78-2cffd84493a2"
      },
      "source": [
        "base[base.duplicated(keep=False)]\n"
      ],
      "execution_count": 41,
      "outputs": [
        {
          "output_type": "execute_result",
          "data": {
            "text/html": [
              "<div>\n",
              "<style scoped>\n",
              "    .dataframe tbody tr th:only-of-type {\n",
              "        vertical-align: middle;\n",
              "    }\n",
              "\n",
              "    .dataframe tbody tr th {\n",
              "        vertical-align: top;\n",
              "    }\n",
              "\n",
              "    .dataframe thead th {\n",
              "        text-align: right;\n",
              "    }\n",
              "</style>\n",
              "<table border=\"1\" class=\"dataframe\">\n",
              "  <thead>\n",
              "    <tr style=\"text-align: right;\">\n",
              "      <th></th>\n",
              "      <th>RD</th>\n",
              "      <th>MUNICIPIO</th>\n",
              "      <th>ELEITORES</th>\n",
              "      <th>Votos validos</th>\n",
              "      <th>PC</th>\n",
              "      <th>% PC</th>\n",
              "      <th>AM</th>\n",
              "      <th>%AM</th>\n",
              "      <th>OUTROS</th>\n",
              "      <th>%O</th>\n",
              "    </tr>\n",
              "  </thead>\n",
              "  <tbody>\n",
              "  </tbody>\n",
              "</table>\n",
              "</div>"
            ],
            "text/plain": [
              "Empty DataFrame\n",
              "Columns: [RD, MUNICIPIO, ELEITORES, Votos validos, PC, % PC, AM, %AM, OUTROS, %O]\n",
              "Index: []"
            ]
          },
          "metadata": {
            "tags": []
          },
          "execution_count": 41
        }
      ]
    },
    {
      "cell_type": "markdown",
      "metadata": {
        "id": "pPHj8dayI60w",
        "colab_type": "text"
      },
      "source": [
        "*Não há linhas repetidas na base*\n"
      ]
    },
    {
      "cell_type": "markdown",
      "metadata": {
        "id": "OQ6dC3xfJFUD",
        "colab_type": "text"
      },
      "source": [
        "Verificando se existem dados ausentes"
      ]
    },
    {
      "cell_type": "code",
      "metadata": {
        "id": "DoSKOaw-I9o6",
        "colab_type": "code",
        "colab": {
          "base_uri": "https://localhost:8080/",
          "height": 204
        },
        "outputId": "def326bc-9d78-45fe-c313-ca51b4076379"
      },
      "source": [
        "base.isna().sum()\n"
      ],
      "execution_count": 42,
      "outputs": [
        {
          "output_type": "execute_result",
          "data": {
            "text/plain": [
              "RD               0\n",
              "MUNICIPIO        0\n",
              "ELEITORES        0\n",
              "Votos validos    0\n",
              "PC               0\n",
              "% PC             0\n",
              "AM               0\n",
              "%AM              0\n",
              "OUTROS           0\n",
              "%O               0\n",
              "dtype: int64"
            ]
          },
          "metadata": {
            "tags": []
          },
          "execution_count": 42
        }
      ]
    },
    {
      "cell_type": "markdown",
      "metadata": {
        "id": "Ete19j1PKRNq",
        "colab_type": "text"
      },
      "source": [
        "*Não há dados ausentes*"
      ]
    },
    {
      "cell_type": "markdown",
      "metadata": {
        "id": "-A6riDaNLq3y",
        "colab_type": "text"
      },
      "source": [
        "O comparativo será realizado, considerando apenas as candidaturas de Paulo Câmara (PC) e Armando Monteiro (AM). Portanto, iremos remover as colunas referentes a Outros candidatos\n"
      ]
    },
    {
      "cell_type": "code",
      "metadata": {
        "id": "B09zdR_KKVTl",
        "colab_type": "code",
        "colab": {
          "base_uri": "https://localhost:8080/",
          "height": 204
        },
        "outputId": "a181a99f-9536-474d-a6dd-c038314510a7"
      },
      "source": [
        "base.drop('OUTROS', axis=1, inplace=True)\n",
        "base.drop('%O', axis=1, inplace=True)\n",
        "base.head()\n"
      ],
      "execution_count": 44,
      "outputs": [
        {
          "output_type": "execute_result",
          "data": {
            "text/html": [
              "<div>\n",
              "<style scoped>\n",
              "    .dataframe tbody tr th:only-of-type {\n",
              "        vertical-align: middle;\n",
              "    }\n",
              "\n",
              "    .dataframe tbody tr th {\n",
              "        vertical-align: top;\n",
              "    }\n",
              "\n",
              "    .dataframe thead th {\n",
              "        text-align: right;\n",
              "    }\n",
              "</style>\n",
              "<table border=\"1\" class=\"dataframe\">\n",
              "  <thead>\n",
              "    <tr style=\"text-align: right;\">\n",
              "      <th></th>\n",
              "      <th>RD</th>\n",
              "      <th>MUNICIPIO</th>\n",
              "      <th>ELEITORES</th>\n",
              "      <th>Votos validos</th>\n",
              "      <th>PC</th>\n",
              "      <th>% PC</th>\n",
              "      <th>AM</th>\n",
              "      <th>%AM</th>\n",
              "    </tr>\n",
              "  </thead>\n",
              "  <tbody>\n",
              "    <tr>\n",
              "      <th>0</th>\n",
              "      <td>AGRESTE CENTRAL</td>\n",
              "      <td>AGRESTINA</td>\n",
              "      <td>18.041</td>\n",
              "      <td>10.355</td>\n",
              "      <td>3.896</td>\n",
              "      <td>37,62%</td>\n",
              "      <td>5.858</td>\n",
              "      <td>56,57%</td>\n",
              "    </tr>\n",
              "    <tr>\n",
              "      <th>1</th>\n",
              "      <td>AGRESTE CENTRAL</td>\n",
              "      <td>ALAGOINHA</td>\n",
              "      <td>12.129</td>\n",
              "      <td>6.298</td>\n",
              "      <td>4.421</td>\n",
              "      <td>70,20%</td>\n",
              "      <td>1.428</td>\n",
              "      <td>22,67%</td>\n",
              "    </tr>\n",
              "    <tr>\n",
              "      <th>2</th>\n",
              "      <td>AGRESTE CENTRAL</td>\n",
              "      <td>ALTINHO</td>\n",
              "      <td>16.016</td>\n",
              "      <td>8.155</td>\n",
              "      <td>4.610</td>\n",
              "      <td>56,53%</td>\n",
              "      <td>3.097</td>\n",
              "      <td>37,98%</td>\n",
              "    </tr>\n",
              "    <tr>\n",
              "      <th>3</th>\n",
              "      <td>AGRESTE CENTRAL</td>\n",
              "      <td>BARRA DE GUABIRABA</td>\n",
              "      <td>8.950</td>\n",
              "      <td>5.870</td>\n",
              "      <td>3.932</td>\n",
              "      <td>66,98%</td>\n",
              "      <td>1.670</td>\n",
              "      <td>28,45%</td>\n",
              "    </tr>\n",
              "    <tr>\n",
              "      <th>4</th>\n",
              "      <td>AGRESTE CENTRAL</td>\n",
              "      <td>BELO JARDIM</td>\n",
              "      <td>60.167</td>\n",
              "      <td>26.954</td>\n",
              "      <td>8.584</td>\n",
              "      <td>31,85%</td>\n",
              "      <td>15.993</td>\n",
              "      <td>59,33%</td>\n",
              "    </tr>\n",
              "  </tbody>\n",
              "</table>\n",
              "</div>"
            ],
            "text/plain": [
              "                RD           MUNICIPIO ELEITORES  ...    % PC      AM     %AM\n",
              "0  AGRESTE CENTRAL           AGRESTINA    18.041  ...  37,62%   5.858  56,57%\n",
              "1  AGRESTE CENTRAL           ALAGOINHA    12.129  ...  70,20%   1.428  22,67%\n",
              "2  AGRESTE CENTRAL             ALTINHO    16.016  ...  56,53%   3.097  37,98%\n",
              "3  AGRESTE CENTRAL  BARRA DE GUABIRABA     8.950  ...  66,98%   1.670  28,45%\n",
              "4  AGRESTE CENTRAL         BELO JARDIM    60.167  ...  31,85%  15.993  59,33%\n",
              "\n",
              "[5 rows x 8 columns]"
            ]
          },
          "metadata": {
            "tags": []
          },
          "execution_count": 44
        }
      ]
    },
    {
      "cell_type": "code",
      "metadata": {
        "id": "DMDswgptL6IX",
        "colab_type": "code",
        "colab": {}
      },
      "source": [
        ""
      ],
      "execution_count": 0,
      "outputs": []
    }
  ]
}